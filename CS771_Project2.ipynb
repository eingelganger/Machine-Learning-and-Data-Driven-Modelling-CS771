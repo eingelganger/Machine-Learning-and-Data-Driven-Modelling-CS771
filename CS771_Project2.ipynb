{
  "nbformat": 4,
  "nbformat_minor": 0,
  "metadata": {
    "colab": {
      "provenance": [],
      "gpuType": "T4"
    },
    "kernelspec": {
      "name": "python3",
      "display_name": "Python 3"
    },
    "language_info": {
      "name": "python"
    },
    "accelerator": "GPU"
  },
  "cells": [
    {
      "cell_type": "code",
      "source": [
        "# Import necessary libraries\n",
        "import os\n",
        "import numpy as np\n",
        "from PIL import Image\n",
        "from tqdm import tqdm\n",
        "\n",
        "import torch\n",
        "import torch.nn as nn\n",
        "import torch.optim as optim\n",
        "import torchvision\n",
        "import torchvision.transforms as transforms\n",
        "import torchvision.models as models\n",
        "\n",
        "from sklearn.metrics import accuracy_score\n",
        "\n",
        "# Suppress warnings\n",
        "import warnings\n",
        "warnings.filterwarnings(\"ignore\", category=FutureWarning)\n",
        "\n",
        "# Define device for computation\n",
        "device = torch.device('cuda' if torch.cuda.is_available() else 'cpu')\n",
        "print(f'Using device: {device}')\n",
        "\n",
        "# ==========================\n",
        "# Part 1: Train ResNet18 on CIFAR-10\n",
        "# ==========================\n",
        "\n",
        "# Function to train ResNet18 on CIFAR-10\n",
        "def train_resnet18_on_cifar10(num_epochs=10):\n",
        "    # CIFAR-10 mean and std\n",
        "    mean = [0.4914, 0.4822, 0.4465]\n",
        "    std = [0.2023, 0.1994, 0.2010]\n",
        "\n",
        "    # Transformations for training and testing\n",
        "    transform_train = transforms.Compose([\n",
        "        transforms.RandomCrop(32, padding=4),\n",
        "        transforms.RandomHorizontalFlip(),\n",
        "        transforms.ToTensor(),\n",
        "        transforms.Normalize(mean=mean, std=std),\n",
        "    ])\n",
        "\n",
        "    transform_test = transforms.Compose([\n",
        "        transforms.ToTensor(),\n",
        "        transforms.Normalize(mean=mean, std=std),\n",
        "    ])\n",
        "\n",
        "    # CIFAR-10 datasets\n",
        "    trainset = torchvision.datasets.CIFAR10(root='./data', train=True, download=True, transform=transform_train)\n",
        "    testset = torchvision.datasets.CIFAR10(root='./data', train=False, download=True, transform=transform_test)\n",
        "\n",
        "    # Data loaders\n",
        "    trainloader = torch.utils.data.DataLoader(trainset, batch_size=128, shuffle=True, num_workers=2)\n",
        "    testloader = torch.utils.data.DataLoader(testset, batch_size=100, shuffle=False, num_workers=2)\n",
        "\n",
        "    # Define the model\n",
        "    model = models.resnet18(num_classes=10)\n",
        "    model = model.to(device)\n",
        "\n",
        "    # Loss function and optimizer\n",
        "    criterion = nn.CrossEntropyLoss()\n",
        "    optimizer = optim.SGD(model.parameters(), lr=0.1, momentum=0.9, weight_decay=5e-4)\n",
        "    scheduler = optim.lr_scheduler.CosineAnnealingLR(optimizer, T_max=num_epochs)\n",
        "\n",
        "    # Training loop\n",
        "    for epoch in range(num_epochs):\n",
        "        model.train()\n",
        "        running_loss = 0.0\n",
        "        total = 0\n",
        "        correct = 0\n",
        "        for inputs, targets in tqdm(trainloader, desc=f'Epoch {epoch+1}/{num_epochs}'):\n",
        "            inputs, targets = inputs.to(device), targets.to(device)\n",
        "            optimizer.zero_grad()\n",
        "\n",
        "            outputs = model(inputs)\n",
        "            loss = criterion(outputs, targets)\n",
        "            loss.backward()\n",
        "            optimizer.step()\n",
        "\n",
        "            # Statistics\n",
        "            running_loss += loss.item() * inputs.size(0)\n",
        "            _, predicted = outputs.max(1)\n",
        "            total += targets.size(0)\n",
        "            correct += predicted.eq(targets).sum().item()\n",
        "\n",
        "        scheduler.step()\n",
        "        epoch_loss = running_loss / total\n",
        "        epoch_acc = 100. * correct / total\n",
        "        print(f'Training Loss: {epoch_loss:.4f}, Training Accuracy: {epoch_acc:.2f}%')\n",
        "\n",
        "        # Validate on test set\n",
        "        model.eval()\n",
        "        total = 0\n",
        "        correct = 0\n",
        "        with torch.no_grad():\n",
        "            for inputs, targets in testloader:\n",
        "                inputs, targets = inputs.to(device), targets.to(device)\n",
        "                outputs = model(inputs)\n",
        "                _, predicted = outputs.max(1)\n",
        "                total += targets.size(0)\n",
        "                correct += predicted.eq(targets).sum().item()\n",
        "        test_acc = 100. * correct / total\n",
        "        print(f'Validation Accuracy: {test_acc:.2f}%')\n",
        "\n",
        "    # Save the trained model\n",
        "    torch.save(model.state_dict(), 'resnet18_cifar10.pth')\n",
        "    print('Model trained and saved as resnet18_cifar10.pth')\n",
        "    return model\n",
        "\n",
        "# ==========================\n",
        "# Part 2: Feature Extraction and Prototype Learning Functions\n",
        "# ==========================\n",
        "\n",
        "# Function to get the feature extractor model\n",
        "def get_feature_extractor():\n",
        "    # Load the trained ResNet18 model\n",
        "    model = models.resnet18(num_classes=10)\n",
        "    model.load_state_dict(torch.load('resnet18_cifar10.pth', map_location=device))\n",
        "    # Remove the final fully connected layer\n",
        "    model.fc = nn.Identity()\n",
        "    model.eval()\n",
        "    return model.to(device)\n",
        "\n",
        "# CIFAR-10 mean and std for normalization\n",
        "mean = [0.4914, 0.4822, 0.4465]\n",
        "std = [0.2023, 0.1994, 0.2010]\n",
        "\n",
        "# Class names and mapping\n",
        "class_names = ['airplane', 'automobile', 'bird', 'cat', 'deer',\n",
        "               'dog', 'frog', 'horse', 'ship', 'truck']\n",
        "class_to_idx = {name: idx for idx, name in enumerate(class_names)}\n",
        "num_classes = len(class_names)\n",
        "\n",
        "# Function to load images and labels from .tar.pth files\n",
        "def load_images_from_pth(file_path, labeled=True):\n",
        "    data = torch.load(file_path)\n",
        "    images = data['data']\n",
        "    if labeled:\n",
        "        labels = data['targets']\n",
        "        # Convert labels to integers if necessary\n",
        "        if isinstance(labels[0], str):\n",
        "            labels = [class_to_idx[label] for label in labels]\n",
        "        return images, labels\n",
        "    else:\n",
        "        return images\n",
        "\n",
        "# Function to extract features from images\n",
        "def extract_features(images, model):\n",
        "    transform = transforms.Compose([\n",
        "        transforms.ToTensor(),\n",
        "        transforms.Normalize(mean=mean, std=std),\n",
        "    ])\n",
        "    features = []\n",
        "    with torch.no_grad():\n",
        "        for img in tqdm(images, desc='Extracting features'):\n",
        "            if isinstance(img, torch.Tensor):\n",
        "                img = img.to(device)\n",
        "                if img.max() > 1.0:\n",
        "                    img = img / 255.0\n",
        "                img = transforms.Normalize(mean=mean, std=std)(img)\n",
        "                img = img.unsqueeze(0)\n",
        "            else:\n",
        "                if isinstance(img, np.ndarray):\n",
        "                    img = Image.fromarray(img)\n",
        "                img = transform(img).unsqueeze(0).to(device)\n",
        "            feat = model(img).cpu().numpy().squeeze()\n",
        "            features.append(feat)\n",
        "    return np.array(features)\n",
        "\n",
        "# Function to compute prototypes for each class\n",
        "def compute_prototypes(features, labels, num_classes):\n",
        "    prototypes = np.zeros((num_classes, features.shape[1]))\n",
        "    counts = np.zeros(num_classes)\n",
        "    for feat, label in zip(features, labels):\n",
        "        prototypes[label] += feat\n",
        "        counts[label] += 1\n",
        "    for i in range(num_classes):\n",
        "        if counts[i] > 0:\n",
        "            prototypes[i] /= counts[i]\n",
        "    return prototypes\n",
        "\n",
        "# Function to predict labels using prototypes and calculate confidences\n",
        "def predict_labels(features, prototypes):\n",
        "    distances = np.linalg.norm(features[:, np.newaxis] - prototypes, axis=2)\n",
        "    predicted_labels = np.argmin(distances, axis=1)\n",
        "    confidences = np.exp(-np.min(distances, axis=1))  # Convert distances to confidences\n",
        "    return predicted_labels, confidences\n",
        "\n",
        "# Function to update prototypes with new data using confidence thresholding\n",
        "def update_prototypes(old_prototypes, new_features, new_labels, confidences, alpha=0.7, confidence_threshold=0.5):\n",
        "    num_classes = old_prototypes.shape[0]\n",
        "    new_prototypes = np.copy(old_prototypes)\n",
        "    for c in range(num_classes):\n",
        "        idxs = np.where((new_labels == c) & (confidences >= confidence_threshold))[0]\n",
        "        if len(idxs) > 0:\n",
        "            class_features = new_features[idxs]\n",
        "            class_mean = class_features.mean(axis=0)\n",
        "            new_prototypes[c] = alpha * old_prototypes[c] + (1 - alpha) * class_mean\n",
        "        else:\n",
        "            new_prototypes[c] = old_prototypes[c]\n",
        "    return new_prototypes\n",
        "\n",
        "# Function to evaluate models on held-out datasets for Task 1\n",
        "def evaluate_models_task1(models, num_classes):\n",
        "    num_models = len(models)\n",
        "    accuracy_matrix = np.zeros((num_models, num_models))\n",
        "    for model_idx in range(num_models):\n",
        "        prototypes = models[model_idx]\n",
        "        for dataset_idx in range(model_idx + 1):\n",
        "            eval_dataset_num = dataset_idx + 1\n",
        "            eval_file_path = f'{eval_dataset_num}_eval_data.tar.pth'\n",
        "            print(f'\\nEvaluating model f{model_idx + 1} on dataset D\\'{eval_dataset_num}')\n",
        "            eval_images, eval_labels = load_images_from_pth(eval_file_path, labeled=True)\n",
        "            eval_features = extract_features(eval_images, feature_extractor)\n",
        "            eval_predicted_labels, _ = predict_labels(eval_features, prototypes)\n",
        "            accuracy = accuracy_score(eval_labels, eval_predicted_labels)\n",
        "            accuracy_matrix[model_idx, dataset_idx] = accuracy\n",
        "            print(f'Accuracy: {accuracy * 100:.2f}%')\n",
        "    return accuracy_matrix\n",
        "\n",
        "# Function to evaluate models on held-out datasets for Task 2\n",
        "def evaluate_models_task2(models, num_classes):\n",
        "    num_models = len(models)  # models f11 to f20\n",
        "    accuracy_matrix = np.full((num_models, 20), np.nan)  # Datasets D1 to D20\n",
        "    for model_idx in range(num_models):\n",
        "        prototypes = models[model_idx]\n",
        "        model_num = model_idx + 11  # Since models are f11 to f20\n",
        "        for dataset_idx in range(model_num):  # Evaluate on datasets D1 to D_{model_num}\n",
        "            eval_dataset_num = dataset_idx + 1\n",
        "            eval_file_path = f'{eval_dataset_num}_eval_data.tar.pth'\n",
        "            print(f'\\nEvaluating model f{model_num} on dataset D\\'{eval_dataset_num}')\n",
        "            eval_images, eval_labels = load_images_from_pth(eval_file_path, labeled=True)\n",
        "            eval_features = extract_features(eval_images, feature_extractor)\n",
        "            eval_predicted_labels, _ = predict_labels(eval_features, prototypes)\n",
        "            accuracy = accuracy_score(eval_labels, eval_predicted_labels)\n",
        "            accuracy_matrix[model_idx, dataset_idx] = accuracy\n",
        "            print(f'Accuracy: {accuracy * 100:.2f}%')\n",
        "    return accuracy_matrix\n",
        "\n",
        "# ==========================\n",
        "# Main Script\n",
        "# ==========================\n",
        "\n",
        "if __name__ == '__main__':\n",
        "    # Part 1: Train ResNet18 on CIFAR-10 (if not already trained)\n",
        "    if not os.path.exists('resnet18_cifar10.pth'):\n",
        "        print('Training ResNet18 on CIFAR-10...')\n",
        "        trained_model = train_resnet18_on_cifar10(num_epochs=10)  # Adjust the number of epochs as needed\n",
        "    else:\n",
        "        print('Pre-trained ResNet18 model found.')\n",
        "\n",
        "    # Part 2: Feature Extraction and Prototype Learning\n",
        "    # Load the feature extractor model\n",
        "    feature_extractor = get_feature_extractor()\n",
        "\n",
        "    models = []  # List to store prototypes (models f1 to f20)\n",
        "\n",
        "    # Task 1: Process datasets D1 to D10\n",
        "    for i in range(1, 11):\n",
        "        print(f'\\nProcessing dataset D{i}')\n",
        "        train_file_path = f'{i}_train_data.tar.pth'\n",
        "        if i == 1:\n",
        "            # D1 is labeled\n",
        "            images, labels = load_images_from_pth(train_file_path, labeled=True)\n",
        "            features = extract_features(images, feature_extractor)\n",
        "            prototypes = compute_prototypes(features, labels, num_classes)\n",
        "            models.append(prototypes)\n",
        "        else:\n",
        "            # D2 to D10 are unlabeled\n",
        "            images = load_images_from_pth(train_file_path, labeled=False)\n",
        "            features = extract_features(images, feature_extractor)\n",
        "            # Predict labels using the previous model\n",
        "            previous_prototypes = models[-1]\n",
        "            predicted_labels, confidences = predict_labels(features, previous_prototypes)\n",
        "            # Update prototypes to get the new model\n",
        "            new_prototypes = update_prototypes(\n",
        "                previous_prototypes, features, predicted_labels, confidences,\n",
        "                alpha=0.7, confidence_threshold=0.5)\n",
        "            models.append(new_prototypes)\n",
        "        print(f'Model f{i} updated.')\n",
        "\n",
        "    # Evaluate the models on the held-out datasets D'1 to D'10 (Task 1)\n",
        "    print('\\nEvaluating models on held-out datasets for Task 1...')\n",
        "    accuracy_matrix_task1 = evaluate_models_task1(models[:10], num_classes)\n",
        "\n",
        "    # Display the accuracy matrix for Task 1\n",
        "    print('\\nAccuracy Matrix for Task 1:')\n",
        "    for i in range(accuracy_matrix_task1.shape[0]):\n",
        "        accuracies = '\\t'.join([f'{accuracy_matrix_task1[i, j]*100:.2f}%' for j in range(i+1)])\n",
        "        print(f'Model f{i+1}: {accuracies}')\n",
        "\n",
        "    # Task 2: Process datasets D11 to D20 starting from f10\n",
        "    print('\\nStarting Task 2: Processing datasets D11 to D20')\n",
        "    for i in range(11, 21):\n",
        "        print(f'\\nProcessing dataset D{i}')\n",
        "        train_file_path = f'{i}_train_data.tar.pth'\n",
        "        images = load_images_from_pth(train_file_path, labeled=False)\n",
        "        features = extract_features(images, feature_extractor)\n",
        "        # Predict labels using the previous model\n",
        "        previous_prototypes = models[-1]\n",
        "        predicted_labels, confidences = predict_labels(features, previous_prototypes)\n",
        "        # Update prototypes to get the new model\n",
        "        new_prototypes = update_prototypes(\n",
        "            previous_prototypes, features, predicted_labels, confidences,\n",
        "            alpha=0.5, confidence_threshold=0.7)  # Adjusted alpha and confidence_threshold for Task 2\n",
        "        models.append(new_prototypes)\n",
        "        print(f'Model f{i} updated.')\n",
        "\n",
        "    # Evaluate the models on the held-out datasets D'1 to D'20 (Task 2)\n",
        "    print('\\nEvaluating models on held-out datasets for Task 2...')\n",
        "    accuracy_matrix_task2 = evaluate_models_task2(models[10:], num_classes)  # Models f11 to f20\n",
        "\n",
        "    # Display the accuracy matrix for Task 2\n",
        "    print('\\nAccuracy Matrix for Task 2:')\n",
        "    for i in range(10):  # Models f11 to f20\n",
        "        model_num = i + 11\n",
        "        accuracies = []\n",
        "        for j in range(model_num):  # Only datasets evaluated\n",
        "            if not np.isnan(accuracy_matrix_task2[i, j]):\n",
        "                accuracies.append(f'{accuracy_matrix_task2[i, j]*100:.2f}%')\n",
        "            else:\n",
        "                accuracies.append('---')\n",
        "        print(f'Model f{model_num}: ' + '\\t'.join(accuracies))\n",
        "\n"
      ],
      "metadata": {
        "colab": {
          "base_uri": "https://localhost:8080/"
        },
        "id": "gB3ppCmZ-ydA",
        "outputId": "c5660b4e-234f-4535-fc0f-4b7d968c1408"
      },
      "execution_count": null,
      "outputs": [
        {
          "output_type": "stream",
          "name": "stdout",
          "text": [
            "Using device: cpu\n",
            "Pre-trained ResNet18 model found.\n",
            "\n",
            "Processing dataset D1\n"
          ]
        },
        {
          "output_type": "stream",
          "name": "stderr",
          "text": [
            "Extracting features: 100%|██████████| 2500/2500 [00:33<00:00, 75.75it/s]\n"
          ]
        },
        {
          "output_type": "stream",
          "name": "stdout",
          "text": [
            "Model f1 updated.\n",
            "\n",
            "Processing dataset D2\n"
          ]
        },
        {
          "output_type": "stream",
          "name": "stderr",
          "text": [
            "Extracting features: 100%|██████████| 2500/2500 [00:30<00:00, 80.89it/s]\n"
          ]
        },
        {
          "output_type": "stream",
          "name": "stdout",
          "text": [
            "Model f2 updated.\n",
            "\n",
            "Processing dataset D3\n"
          ]
        },
        {
          "output_type": "stream",
          "name": "stderr",
          "text": [
            "Extracting features: 100%|██████████| 2500/2500 [00:32<00:00, 76.73it/s]\n"
          ]
        },
        {
          "output_type": "stream",
          "name": "stdout",
          "text": [
            "Model f3 updated.\n",
            "\n",
            "Processing dataset D4\n"
          ]
        },
        {
          "output_type": "stream",
          "name": "stderr",
          "text": [
            "Extracting features: 100%|██████████| 2500/2500 [00:31<00:00, 80.18it/s]\n"
          ]
        },
        {
          "output_type": "stream",
          "name": "stdout",
          "text": [
            "Model f4 updated.\n",
            "\n",
            "Processing dataset D5\n"
          ]
        },
        {
          "output_type": "stream",
          "name": "stderr",
          "text": [
            "Extracting features: 100%|██████████| 2500/2500 [00:32<00:00, 76.65it/s]\n"
          ]
        },
        {
          "output_type": "stream",
          "name": "stdout",
          "text": [
            "Model f5 updated.\n",
            "\n",
            "Processing dataset D6\n"
          ]
        },
        {
          "output_type": "stream",
          "name": "stderr",
          "text": [
            "Extracting features: 100%|██████████| 2500/2500 [00:31<00:00, 79.35it/s]\n"
          ]
        },
        {
          "output_type": "stream",
          "name": "stdout",
          "text": [
            "Model f6 updated.\n",
            "\n",
            "Processing dataset D7\n"
          ]
        },
        {
          "output_type": "stream",
          "name": "stderr",
          "text": [
            "Extracting features: 100%|██████████| 2500/2500 [00:32<00:00, 76.70it/s]\n"
          ]
        },
        {
          "output_type": "stream",
          "name": "stdout",
          "text": [
            "Model f7 updated.\n",
            "\n",
            "Processing dataset D8\n"
          ]
        },
        {
          "output_type": "stream",
          "name": "stderr",
          "text": [
            "Extracting features: 100%|██████████| 2500/2500 [00:30<00:00, 82.20it/s]\n"
          ]
        },
        {
          "output_type": "stream",
          "name": "stdout",
          "text": [
            "Model f8 updated.\n",
            "\n",
            "Processing dataset D9\n"
          ]
        },
        {
          "output_type": "stream",
          "name": "stderr",
          "text": [
            "Extracting features: 100%|██████████| 2500/2500 [00:30<00:00, 80.95it/s]\n"
          ]
        },
        {
          "output_type": "stream",
          "name": "stdout",
          "text": [
            "Model f9 updated.\n",
            "\n",
            "Processing dataset D10\n"
          ]
        },
        {
          "output_type": "stream",
          "name": "stderr",
          "text": [
            "Extracting features: 100%|██████████| 2500/2500 [00:30<00:00, 81.40it/s]\n"
          ]
        },
        {
          "output_type": "stream",
          "name": "stdout",
          "text": [
            "Model f10 updated.\n",
            "\n",
            "Evaluating models on held-out datasets for Task 1...\n",
            "\n",
            "Evaluating model f1 on dataset D'1\n"
          ]
        },
        {
          "output_type": "stream",
          "name": "stderr",
          "text": [
            "Extracting features: 100%|██████████| 2500/2500 [00:33<00:00, 74.87it/s]\n"
          ]
        },
        {
          "output_type": "stream",
          "name": "stdout",
          "text": [
            "Accuracy: 79.20%\n",
            "\n",
            "Evaluating model f2 on dataset D'1\n"
          ]
        },
        {
          "output_type": "stream",
          "name": "stderr",
          "text": [
            "Extracting features: 100%|██████████| 2500/2500 [00:32<00:00, 75.80it/s]\n"
          ]
        },
        {
          "output_type": "stream",
          "name": "stdout",
          "text": [
            "Accuracy: 79.20%\n",
            "\n",
            "Evaluating model f2 on dataset D'2\n"
          ]
        },
        {
          "output_type": "stream",
          "name": "stderr",
          "text": [
            "Extracting features: 100%|██████████| 2500/2500 [00:33<00:00, 73.57it/s]\n"
          ]
        },
        {
          "output_type": "stream",
          "name": "stdout",
          "text": [
            "Accuracy: 80.32%\n",
            "\n",
            "Evaluating model f3 on dataset D'1\n"
          ]
        },
        {
          "output_type": "stream",
          "name": "stderr",
          "text": [
            "Extracting features: 100%|██████████| 2500/2500 [00:34<00:00, 73.17it/s]\n"
          ]
        },
        {
          "output_type": "stream",
          "name": "stdout",
          "text": [
            "Accuracy: 79.20%\n",
            "\n",
            "Evaluating model f3 on dataset D'2\n"
          ]
        },
        {
          "output_type": "stream",
          "name": "stderr",
          "text": [
            "Extracting features: 100%|██████████| 2500/2500 [00:33<00:00, 75.12it/s]\n"
          ]
        },
        {
          "output_type": "stream",
          "name": "stdout",
          "text": [
            "Accuracy: 80.32%\n",
            "\n",
            "Evaluating model f3 on dataset D'3\n"
          ]
        },
        {
          "output_type": "stream",
          "name": "stderr",
          "text": [
            "Extracting features: 100%|██████████| 2500/2500 [00:32<00:00, 76.91it/s]\n"
          ]
        },
        {
          "output_type": "stream",
          "name": "stdout",
          "text": [
            "Accuracy: 78.32%\n",
            "\n",
            "Evaluating model f4 on dataset D'1\n"
          ]
        },
        {
          "output_type": "stream",
          "name": "stderr",
          "text": [
            "Extracting features: 100%|██████████| 2500/2500 [00:33<00:00, 75.68it/s]\n"
          ]
        },
        {
          "output_type": "stream",
          "name": "stdout",
          "text": [
            "Accuracy: 79.20%\n",
            "\n",
            "Evaluating model f4 on dataset D'2\n"
          ]
        },
        {
          "output_type": "stream",
          "name": "stderr",
          "text": [
            "Extracting features: 100%|██████████| 2500/2500 [00:34<00:00, 71.85it/s]\n"
          ]
        },
        {
          "output_type": "stream",
          "name": "stdout",
          "text": [
            "Accuracy: 80.32%\n",
            "\n",
            "Evaluating model f4 on dataset D'3\n"
          ]
        },
        {
          "output_type": "stream",
          "name": "stderr",
          "text": [
            "Extracting features: 100%|██████████| 2500/2500 [00:34<00:00, 72.51it/s]\n"
          ]
        },
        {
          "output_type": "stream",
          "name": "stdout",
          "text": [
            "Accuracy: 78.32%\n",
            "\n",
            "Evaluating model f4 on dataset D'4\n"
          ]
        },
        {
          "output_type": "stream",
          "name": "stderr",
          "text": [
            "Extracting features: 100%|██████████| 2500/2500 [00:35<00:00, 69.54it/s]\n"
          ]
        },
        {
          "output_type": "stream",
          "name": "stdout",
          "text": [
            "Accuracy: 79.60%\n",
            "\n",
            "Evaluating model f5 on dataset D'1\n"
          ]
        },
        {
          "output_type": "stream",
          "name": "stderr",
          "text": [
            "Extracting features: 100%|██████████| 2500/2500 [00:33<00:00, 75.56it/s]\n"
          ]
        },
        {
          "output_type": "stream",
          "name": "stdout",
          "text": [
            "Accuracy: 79.20%\n",
            "\n",
            "Evaluating model f5 on dataset D'2\n"
          ]
        },
        {
          "output_type": "stream",
          "name": "stderr",
          "text": [
            "Extracting features: 100%|██████████| 2500/2500 [00:45<00:00, 54.80it/s]\n"
          ]
        },
        {
          "output_type": "stream",
          "name": "stdout",
          "text": [
            "Accuracy: 80.32%\n",
            "\n",
            "Evaluating model f5 on dataset D'3\n"
          ]
        },
        {
          "output_type": "stream",
          "name": "stderr",
          "text": [
            "Extracting features: 100%|██████████| 2500/2500 [00:34<00:00, 72.00it/s]\n"
          ]
        },
        {
          "output_type": "stream",
          "name": "stdout",
          "text": [
            "Accuracy: 78.32%\n",
            "\n",
            "Evaluating model f5 on dataset D'4\n"
          ]
        },
        {
          "output_type": "stream",
          "name": "stderr",
          "text": [
            "Extracting features: 100%|██████████| 2500/2500 [00:36<00:00, 68.16it/s]\n"
          ]
        },
        {
          "output_type": "stream",
          "name": "stdout",
          "text": [
            "Accuracy: 79.60%\n",
            "\n",
            "Evaluating model f5 on dataset D'5\n"
          ]
        },
        {
          "output_type": "stream",
          "name": "stderr",
          "text": [
            "Extracting features: 100%|██████████| 2500/2500 [00:34<00:00, 73.22it/s]\n"
          ]
        },
        {
          "output_type": "stream",
          "name": "stdout",
          "text": [
            "Accuracy: 79.04%\n",
            "\n",
            "Evaluating model f6 on dataset D'1\n"
          ]
        },
        {
          "output_type": "stream",
          "name": "stderr",
          "text": [
            "Extracting features: 100%|██████████| 2500/2500 [00:35<00:00, 69.82it/s]\n"
          ]
        },
        {
          "output_type": "stream",
          "name": "stdout",
          "text": [
            "Accuracy: 79.20%\n",
            "\n",
            "Evaluating model f6 on dataset D'2\n"
          ]
        },
        {
          "output_type": "stream",
          "name": "stderr",
          "text": [
            "Extracting features: 100%|██████████| 2500/2500 [00:36<00:00, 68.65it/s]\n"
          ]
        },
        {
          "output_type": "stream",
          "name": "stdout",
          "text": [
            "Accuracy: 80.32%\n",
            "\n",
            "Evaluating model f6 on dataset D'3\n"
          ]
        },
        {
          "output_type": "stream",
          "name": "stderr",
          "text": [
            "Extracting features: 100%|██████████| 2500/2500 [00:34<00:00, 72.31it/s]\n"
          ]
        },
        {
          "output_type": "stream",
          "name": "stdout",
          "text": [
            "Accuracy: 78.32%\n",
            "\n",
            "Evaluating model f6 on dataset D'4\n"
          ]
        },
        {
          "output_type": "stream",
          "name": "stderr",
          "text": [
            "Extracting features: 100%|██████████| 2500/2500 [00:35<00:00, 70.05it/s]\n"
          ]
        },
        {
          "output_type": "stream",
          "name": "stdout",
          "text": [
            "Accuracy: 79.60%\n",
            "\n",
            "Evaluating model f6 on dataset D'5\n"
          ]
        },
        {
          "output_type": "stream",
          "name": "stderr",
          "text": [
            "Extracting features: 100%|██████████| 2500/2500 [00:34<00:00, 73.48it/s]\n"
          ]
        },
        {
          "output_type": "stream",
          "name": "stdout",
          "text": [
            "Accuracy: 79.04%\n",
            "\n",
            "Evaluating model f6 on dataset D'6\n"
          ]
        },
        {
          "output_type": "stream",
          "name": "stderr",
          "text": [
            "Extracting features: 100%|██████████| 2500/2500 [00:36<00:00, 67.81it/s]\n"
          ]
        },
        {
          "output_type": "stream",
          "name": "stdout",
          "text": [
            "Accuracy: 80.68%\n",
            "\n",
            "Evaluating model f7 on dataset D'1\n"
          ]
        },
        {
          "output_type": "stream",
          "name": "stderr",
          "text": [
            "Extracting features: 100%|██████████| 2500/2500 [00:35<00:00, 70.38it/s]\n"
          ]
        },
        {
          "output_type": "stream",
          "name": "stdout",
          "text": [
            "Accuracy: 79.20%\n",
            "\n",
            "Evaluating model f7 on dataset D'2\n"
          ]
        },
        {
          "output_type": "stream",
          "name": "stderr",
          "text": [
            "Extracting features: 100%|██████████| 2500/2500 [00:33<00:00, 75.31it/s]\n"
          ]
        },
        {
          "output_type": "stream",
          "name": "stdout",
          "text": [
            "Accuracy: 80.32%\n",
            "\n",
            "Evaluating model f7 on dataset D'3\n"
          ]
        },
        {
          "output_type": "stream",
          "name": "stderr",
          "text": [
            "Extracting features: 100%|██████████| 2500/2500 [00:32<00:00, 75.94it/s]\n"
          ]
        },
        {
          "output_type": "stream",
          "name": "stdout",
          "text": [
            "Accuracy: 78.32%\n",
            "\n",
            "Evaluating model f7 on dataset D'4\n"
          ]
        },
        {
          "output_type": "stream",
          "name": "stderr",
          "text": [
            "Extracting features: 100%|██████████| 2500/2500 [00:36<00:00, 69.21it/s]\n"
          ]
        },
        {
          "output_type": "stream",
          "name": "stdout",
          "text": [
            "Accuracy: 79.60%\n",
            "\n",
            "Evaluating model f7 on dataset D'5\n"
          ]
        },
        {
          "output_type": "stream",
          "name": "stderr",
          "text": [
            "Extracting features: 100%|██████████| 2500/2500 [00:36<00:00, 67.70it/s]\n"
          ]
        },
        {
          "output_type": "stream",
          "name": "stdout",
          "text": [
            "Accuracy: 79.04%\n",
            "\n",
            "Evaluating model f7 on dataset D'6\n"
          ]
        },
        {
          "output_type": "stream",
          "name": "stderr",
          "text": [
            "Extracting features: 100%|██████████| 2500/2500 [00:32<00:00, 75.96it/s]\n"
          ]
        },
        {
          "output_type": "stream",
          "name": "stdout",
          "text": [
            "Accuracy: 80.68%\n",
            "\n",
            "Evaluating model f7 on dataset D'7\n"
          ]
        },
        {
          "output_type": "stream",
          "name": "stderr",
          "text": [
            "Extracting features: 100%|██████████| 2500/2500 [00:36<00:00, 68.96it/s]\n"
          ]
        },
        {
          "output_type": "stream",
          "name": "stdout",
          "text": [
            "Accuracy: 78.52%\n",
            "\n",
            "Evaluating model f8 on dataset D'1\n"
          ]
        },
        {
          "output_type": "stream",
          "name": "stderr",
          "text": [
            "Extracting features: 100%|██████████| 2500/2500 [00:35<00:00, 69.72it/s]\n"
          ]
        },
        {
          "output_type": "stream",
          "name": "stdout",
          "text": [
            "Accuracy: 79.20%\n",
            "\n",
            "Evaluating model f8 on dataset D'2\n"
          ]
        },
        {
          "output_type": "stream",
          "name": "stderr",
          "text": [
            "Extracting features: 100%|██████████| 2500/2500 [00:34<00:00, 71.51it/s]\n"
          ]
        },
        {
          "output_type": "stream",
          "name": "stdout",
          "text": [
            "Accuracy: 80.32%\n",
            "\n",
            "Evaluating model f8 on dataset D'3\n"
          ]
        },
        {
          "output_type": "stream",
          "name": "stderr",
          "text": [
            "Extracting features: 100%|██████████| 2500/2500 [00:36<00:00, 68.02it/s]\n"
          ]
        },
        {
          "output_type": "stream",
          "name": "stdout",
          "text": [
            "Accuracy: 78.32%\n",
            "\n",
            "Evaluating model f8 on dataset D'4\n"
          ]
        },
        {
          "output_type": "stream",
          "name": "stderr",
          "text": [
            "Extracting features: 100%|██████████| 2500/2500 [00:36<00:00, 68.92it/s]\n"
          ]
        },
        {
          "output_type": "stream",
          "name": "stdout",
          "text": [
            "Accuracy: 79.60%\n",
            "\n",
            "Evaluating model f8 on dataset D'5\n"
          ]
        },
        {
          "output_type": "stream",
          "name": "stderr",
          "text": [
            "Extracting features: 100%|██████████| 2500/2500 [00:38<00:00, 64.62it/s]\n"
          ]
        },
        {
          "output_type": "stream",
          "name": "stdout",
          "text": [
            "Accuracy: 79.04%\n",
            "\n",
            "Evaluating model f8 on dataset D'6\n"
          ]
        },
        {
          "output_type": "stream",
          "name": "stderr",
          "text": [
            "Extracting features: 100%|██████████| 2500/2500 [00:35<00:00, 70.77it/s]\n"
          ]
        },
        {
          "output_type": "stream",
          "name": "stdout",
          "text": [
            "Accuracy: 80.68%\n",
            "\n",
            "Evaluating model f8 on dataset D'7\n"
          ]
        },
        {
          "output_type": "stream",
          "name": "stderr",
          "text": [
            "Extracting features: 100%|██████████| 2500/2500 [00:35<00:00, 70.46it/s]\n"
          ]
        },
        {
          "output_type": "stream",
          "name": "stdout",
          "text": [
            "Accuracy: 78.52%\n",
            "\n",
            "Evaluating model f8 on dataset D'8\n"
          ]
        },
        {
          "output_type": "stream",
          "name": "stderr",
          "text": [
            "Extracting features: 100%|██████████| 2500/2500 [00:35<00:00, 70.57it/s]\n"
          ]
        },
        {
          "output_type": "stream",
          "name": "stdout",
          "text": [
            "Accuracy: 79.16%\n",
            "\n",
            "Evaluating model f9 on dataset D'1\n"
          ]
        },
        {
          "output_type": "stream",
          "name": "stderr",
          "text": [
            "Extracting features: 100%|██████████| 2500/2500 [00:36<00:00, 68.40it/s]\n"
          ]
        },
        {
          "output_type": "stream",
          "name": "stdout",
          "text": [
            "Accuracy: 79.20%\n",
            "\n",
            "Evaluating model f9 on dataset D'2\n"
          ]
        },
        {
          "output_type": "stream",
          "name": "stderr",
          "text": [
            "Extracting features: 100%|██████████| 2500/2500 [00:36<00:00, 68.83it/s]\n"
          ]
        },
        {
          "output_type": "stream",
          "name": "stdout",
          "text": [
            "Accuracy: 80.32%\n",
            "\n",
            "Evaluating model f9 on dataset D'3\n"
          ]
        },
        {
          "output_type": "stream",
          "name": "stderr",
          "text": [
            "Extracting features: 100%|██████████| 2500/2500 [00:34<00:00, 72.22it/s]\n"
          ]
        },
        {
          "output_type": "stream",
          "name": "stdout",
          "text": [
            "Accuracy: 78.32%\n",
            "\n",
            "Evaluating model f9 on dataset D'4\n"
          ]
        },
        {
          "output_type": "stream",
          "name": "stderr",
          "text": [
            "Extracting features: 100%|██████████| 2500/2500 [00:33<00:00, 73.97it/s]\n"
          ]
        },
        {
          "output_type": "stream",
          "name": "stdout",
          "text": [
            "Accuracy: 79.60%\n",
            "\n",
            "Evaluating model f9 on dataset D'5\n"
          ]
        },
        {
          "output_type": "stream",
          "name": "stderr",
          "text": [
            "Extracting features: 100%|██████████| 2500/2500 [00:36<00:00, 68.59it/s]\n"
          ]
        },
        {
          "output_type": "stream",
          "name": "stdout",
          "text": [
            "Accuracy: 79.04%\n",
            "\n",
            "Evaluating model f9 on dataset D'6\n"
          ]
        },
        {
          "output_type": "stream",
          "name": "stderr",
          "text": [
            "Extracting features: 100%|██████████| 2500/2500 [00:36<00:00, 69.37it/s]\n"
          ]
        },
        {
          "output_type": "stream",
          "name": "stdout",
          "text": [
            "Accuracy: 80.68%\n",
            "\n",
            "Evaluating model f9 on dataset D'7\n"
          ]
        },
        {
          "output_type": "stream",
          "name": "stderr",
          "text": [
            "Extracting features: 100%|██████████| 2500/2500 [00:33<00:00, 74.66it/s]\n"
          ]
        },
        {
          "output_type": "stream",
          "name": "stdout",
          "text": [
            "Accuracy: 78.52%\n",
            "\n",
            "Evaluating model f9 on dataset D'8\n"
          ]
        },
        {
          "output_type": "stream",
          "name": "stderr",
          "text": [
            "Extracting features: 100%|██████████| 2500/2500 [00:37<00:00, 66.61it/s]\n"
          ]
        },
        {
          "output_type": "stream",
          "name": "stdout",
          "text": [
            "Accuracy: 79.16%\n",
            "\n",
            "Evaluating model f9 on dataset D'9\n"
          ]
        },
        {
          "output_type": "stream",
          "name": "stderr",
          "text": [
            "Extracting features: 100%|██████████| 2500/2500 [00:32<00:00, 75.97it/s]\n"
          ]
        },
        {
          "output_type": "stream",
          "name": "stdout",
          "text": [
            "Accuracy: 80.00%\n",
            "\n",
            "Evaluating model f10 on dataset D'1\n"
          ]
        },
        {
          "output_type": "stream",
          "name": "stderr",
          "text": [
            "Extracting features: 100%|██████████| 2500/2500 [00:33<00:00, 74.45it/s]\n"
          ]
        },
        {
          "output_type": "stream",
          "name": "stdout",
          "text": [
            "Accuracy: 79.20%\n",
            "\n",
            "Evaluating model f10 on dataset D'2\n"
          ]
        },
        {
          "output_type": "stream",
          "name": "stderr",
          "text": [
            "Extracting features: 100%|██████████| 2500/2500 [00:35<00:00, 70.18it/s]\n"
          ]
        },
        {
          "output_type": "stream",
          "name": "stdout",
          "text": [
            "Accuracy: 80.32%\n",
            "\n",
            "Evaluating model f10 on dataset D'3\n"
          ]
        },
        {
          "output_type": "stream",
          "name": "stderr",
          "text": [
            "Extracting features: 100%|██████████| 2500/2500 [00:36<00:00, 68.06it/s]\n"
          ]
        },
        {
          "output_type": "stream",
          "name": "stdout",
          "text": [
            "Accuracy: 78.32%\n",
            "\n",
            "Evaluating model f10 on dataset D'4\n"
          ]
        },
        {
          "output_type": "stream",
          "name": "stderr",
          "text": [
            "Extracting features: 100%|██████████| 2500/2500 [00:33<00:00, 73.61it/s]\n"
          ]
        },
        {
          "output_type": "stream",
          "name": "stdout",
          "text": [
            "Accuracy: 79.60%\n",
            "\n",
            "Evaluating model f10 on dataset D'5\n"
          ]
        },
        {
          "output_type": "stream",
          "name": "stderr",
          "text": [
            "Extracting features: 100%|██████████| 2500/2500 [00:36<00:00, 69.14it/s]\n"
          ]
        },
        {
          "output_type": "stream",
          "name": "stdout",
          "text": [
            "Accuracy: 79.04%\n",
            "\n",
            "Evaluating model f10 on dataset D'6\n"
          ]
        },
        {
          "output_type": "stream",
          "name": "stderr",
          "text": [
            "Extracting features: 100%|██████████| 2500/2500 [00:35<00:00, 70.64it/s]\n"
          ]
        },
        {
          "output_type": "stream",
          "name": "stdout",
          "text": [
            "Accuracy: 80.68%\n",
            "\n",
            "Evaluating model f10 on dataset D'7\n"
          ]
        },
        {
          "output_type": "stream",
          "name": "stderr",
          "text": [
            "Extracting features: 100%|██████████| 2500/2500 [00:35<00:00, 69.53it/s]\n"
          ]
        },
        {
          "output_type": "stream",
          "name": "stdout",
          "text": [
            "Accuracy: 78.52%\n",
            "\n",
            "Evaluating model f10 on dataset D'8\n"
          ]
        },
        {
          "output_type": "stream",
          "name": "stderr",
          "text": [
            "Extracting features: 100%|██████████| 2500/2500 [00:33<00:00, 75.01it/s]\n"
          ]
        },
        {
          "output_type": "stream",
          "name": "stdout",
          "text": [
            "Accuracy: 79.16%\n",
            "\n",
            "Evaluating model f10 on dataset D'9\n"
          ]
        },
        {
          "output_type": "stream",
          "name": "stderr",
          "text": [
            "Extracting features: 100%|██████████| 2500/2500 [00:34<00:00, 71.93it/s]\n"
          ]
        },
        {
          "output_type": "stream",
          "name": "stdout",
          "text": [
            "Accuracy: 80.00%\n",
            "\n",
            "Evaluating model f10 on dataset D'10\n"
          ]
        },
        {
          "output_type": "stream",
          "name": "stderr",
          "text": [
            "Extracting features: 100%|██████████| 2500/2500 [00:34<00:00, 72.65it/s]\n"
          ]
        },
        {
          "output_type": "stream",
          "name": "stdout",
          "text": [
            "Accuracy: 80.24%\n",
            "\n",
            "Accuracy Matrix for Task 1:\n",
            "Model f1: 79.20%\n",
            "Model f2: 79.20%\t80.32%\n",
            "Model f3: 79.20%\t80.32%\t78.32%\n",
            "Model f4: 79.20%\t80.32%\t78.32%\t79.60%\n",
            "Model f5: 79.20%\t80.32%\t78.32%\t79.60%\t79.04%\n",
            "Model f6: 79.20%\t80.32%\t78.32%\t79.60%\t79.04%\t80.68%\n",
            "Model f7: 79.20%\t80.32%\t78.32%\t79.60%\t79.04%\t80.68%\t78.52%\n",
            "Model f8: 79.20%\t80.32%\t78.32%\t79.60%\t79.04%\t80.68%\t78.52%\t79.16%\n",
            "Model f9: 79.20%\t80.32%\t78.32%\t79.60%\t79.04%\t80.68%\t78.52%\t79.16%\t80.00%\n",
            "Model f10: 79.20%\t80.32%\t78.32%\t79.60%\t79.04%\t80.68%\t78.52%\t79.16%\t80.00%\t80.24%\n",
            "\n",
            "Starting Task 2: Processing datasets D11 to D20\n",
            "\n",
            "Processing dataset D11\n"
          ]
        },
        {
          "output_type": "stream",
          "name": "stderr",
          "text": [
            "Extracting features: 100%|██████████| 2500/2500 [00:33<00:00, 73.68it/s]\n"
          ]
        },
        {
          "output_type": "stream",
          "name": "stdout",
          "text": [
            "Model f11 updated.\n",
            "\n",
            "Processing dataset D12\n"
          ]
        },
        {
          "output_type": "stream",
          "name": "stderr",
          "text": [
            "Extracting features: 100%|██████████| 2500/2500 [00:32<00:00, 76.80it/s]\n"
          ]
        },
        {
          "output_type": "stream",
          "name": "stdout",
          "text": [
            "Model f12 updated.\n",
            "\n",
            "Processing dataset D13\n"
          ]
        },
        {
          "output_type": "stream",
          "name": "stderr",
          "text": [
            "Extracting features: 100%|██████████| 2500/2500 [00:31<00:00, 78.49it/s]\n"
          ]
        },
        {
          "output_type": "stream",
          "name": "stdout",
          "text": [
            "Model f13 updated.\n",
            "\n",
            "Processing dataset D14\n"
          ]
        },
        {
          "output_type": "stream",
          "name": "stderr",
          "text": [
            "Extracting features: 100%|██████████| 2500/2500 [00:33<00:00, 74.98it/s]\n"
          ]
        },
        {
          "output_type": "stream",
          "name": "stdout",
          "text": [
            "Model f14 updated.\n",
            "\n",
            "Processing dataset D15\n"
          ]
        },
        {
          "output_type": "stream",
          "name": "stderr",
          "text": [
            "Extracting features: 100%|██████████| 2500/2500 [00:31<00:00, 78.28it/s]\n"
          ]
        },
        {
          "output_type": "stream",
          "name": "stdout",
          "text": [
            "Model f15 updated.\n",
            "\n",
            "Processing dataset D16\n"
          ]
        },
        {
          "output_type": "stream",
          "name": "stderr",
          "text": [
            "Extracting features: 100%|██████████| 2500/2500 [00:33<00:00, 75.05it/s]\n"
          ]
        },
        {
          "output_type": "stream",
          "name": "stdout",
          "text": [
            "Model f16 updated.\n",
            "\n",
            "Processing dataset D17\n"
          ]
        },
        {
          "output_type": "stream",
          "name": "stderr",
          "text": [
            "Extracting features: 100%|██████████| 2500/2500 [00:32<00:00, 76.55it/s]\n"
          ]
        },
        {
          "output_type": "stream",
          "name": "stdout",
          "text": [
            "Model f17 updated.\n",
            "\n",
            "Processing dataset D18\n"
          ]
        },
        {
          "output_type": "stream",
          "name": "stderr",
          "text": [
            "Extracting features: 100%|██████████| 2500/2500 [00:31<00:00, 79.55it/s]\n"
          ]
        },
        {
          "output_type": "stream",
          "name": "stdout",
          "text": [
            "Model f18 updated.\n",
            "\n",
            "Processing dataset D19\n"
          ]
        },
        {
          "output_type": "stream",
          "name": "stderr",
          "text": [
            "Extracting features: 100%|██████████| 2500/2500 [00:32<00:00, 77.72it/s]\n"
          ]
        },
        {
          "output_type": "stream",
          "name": "stdout",
          "text": [
            "Model f19 updated.\n",
            "\n",
            "Processing dataset D20\n"
          ]
        },
        {
          "output_type": "stream",
          "name": "stderr",
          "text": [
            "Extracting features: 100%|██████████| 2500/2500 [00:32<00:00, 77.62it/s]\n"
          ]
        },
        {
          "output_type": "stream",
          "name": "stdout",
          "text": [
            "Model f20 updated.\n",
            "\n",
            "Evaluating models on held-out datasets for Task 2...\n",
            "\n",
            "Evaluating model f11 on dataset D'1\n"
          ]
        },
        {
          "output_type": "stream",
          "name": "stderr",
          "text": [
            "Extracting features: 100%|██████████| 2500/2500 [00:31<00:00, 80.38it/s]\n"
          ]
        },
        {
          "output_type": "stream",
          "name": "stdout",
          "text": [
            "Accuracy: 79.20%\n",
            "\n",
            "Evaluating model f11 on dataset D'2\n"
          ]
        },
        {
          "output_type": "stream",
          "name": "stderr",
          "text": [
            "Extracting features: 100%|██████████| 2500/2500 [00:32<00:00, 77.82it/s]\n"
          ]
        },
        {
          "output_type": "stream",
          "name": "stdout",
          "text": [
            "Accuracy: 80.32%\n",
            "\n",
            "Evaluating model f11 on dataset D'3\n"
          ]
        },
        {
          "output_type": "stream",
          "name": "stderr",
          "text": [
            "Extracting features: 100%|██████████| 2500/2500 [00:31<00:00, 78.41it/s]\n"
          ]
        },
        {
          "output_type": "stream",
          "name": "stdout",
          "text": [
            "Accuracy: 78.32%\n",
            "\n",
            "Evaluating model f11 on dataset D'4\n"
          ]
        },
        {
          "output_type": "stream",
          "name": "stderr",
          "text": [
            "Extracting features: 100%|██████████| 2500/2500 [00:33<00:00, 75.16it/s]\n"
          ]
        },
        {
          "output_type": "stream",
          "name": "stdout",
          "text": [
            "Accuracy: 79.60%\n",
            "\n",
            "Evaluating model f11 on dataset D'5\n"
          ]
        },
        {
          "output_type": "stream",
          "name": "stderr",
          "text": [
            "Extracting features: 100%|██████████| 2500/2500 [00:32<00:00, 76.43it/s]\n"
          ]
        },
        {
          "output_type": "stream",
          "name": "stdout",
          "text": [
            "Accuracy: 79.04%\n",
            "\n",
            "Evaluating model f11 on dataset D'6\n"
          ]
        },
        {
          "output_type": "stream",
          "name": "stderr",
          "text": [
            "Extracting features: 100%|██████████| 2500/2500 [00:31<00:00, 78.18it/s]\n"
          ]
        },
        {
          "output_type": "stream",
          "name": "stdout",
          "text": [
            "Accuracy: 80.68%\n",
            "\n",
            "Evaluating model f11 on dataset D'7\n"
          ]
        },
        {
          "output_type": "stream",
          "name": "stderr",
          "text": [
            "Extracting features: 100%|██████████| 2500/2500 [00:32<00:00, 77.58it/s]\n"
          ]
        },
        {
          "output_type": "stream",
          "name": "stdout",
          "text": [
            "Accuracy: 78.52%\n",
            "\n",
            "Evaluating model f11 on dataset D'8\n"
          ]
        },
        {
          "output_type": "stream",
          "name": "stderr",
          "text": [
            "Extracting features: 100%|██████████| 2500/2500 [00:33<00:00, 75.09it/s]\n"
          ]
        },
        {
          "output_type": "stream",
          "name": "stdout",
          "text": [
            "Accuracy: 79.16%\n",
            "\n",
            "Evaluating model f11 on dataset D'9\n"
          ]
        },
        {
          "output_type": "stream",
          "name": "stderr",
          "text": [
            "Extracting features: 100%|██████████| 2500/2500 [00:30<00:00, 80.65it/s]\n"
          ]
        },
        {
          "output_type": "stream",
          "name": "stdout",
          "text": [
            "Accuracy: 80.00%\n",
            "\n",
            "Evaluating model f11 on dataset D'10\n"
          ]
        },
        {
          "output_type": "stream",
          "name": "stderr",
          "text": [
            "Extracting features: 100%|██████████| 2500/2500 [00:34<00:00, 73.15it/s]\n"
          ]
        },
        {
          "output_type": "stream",
          "name": "stdout",
          "text": [
            "Accuracy: 80.24%\n",
            "\n",
            "Evaluating model f11 on dataset D'11\n"
          ]
        },
        {
          "output_type": "stream",
          "name": "stderr",
          "text": [
            "Extracting features: 100%|██████████| 2500/2500 [00:30<00:00, 82.34it/s]\n"
          ]
        },
        {
          "output_type": "stream",
          "name": "stdout",
          "text": [
            "Accuracy: 65.68%\n",
            "\n",
            "Evaluating model f12 on dataset D'1\n"
          ]
        },
        {
          "output_type": "stream",
          "name": "stderr",
          "text": [
            "Extracting features: 100%|██████████| 2500/2500 [00:33<00:00, 75.74it/s]\n"
          ]
        },
        {
          "output_type": "stream",
          "name": "stdout",
          "text": [
            "Accuracy: 79.20%\n",
            "\n",
            "Evaluating model f12 on dataset D'2\n"
          ]
        },
        {
          "output_type": "stream",
          "name": "stderr",
          "text": [
            "Extracting features: 100%|██████████| 2500/2500 [00:33<00:00, 75.58it/s]\n"
          ]
        },
        {
          "output_type": "stream",
          "name": "stdout",
          "text": [
            "Accuracy: 80.32%\n",
            "\n",
            "Evaluating model f12 on dataset D'3\n"
          ]
        },
        {
          "output_type": "stream",
          "name": "stderr",
          "text": [
            "Extracting features: 100%|██████████| 2500/2500 [00:31<00:00, 79.23it/s]\n"
          ]
        },
        {
          "output_type": "stream",
          "name": "stdout",
          "text": [
            "Accuracy: 78.32%\n",
            "\n",
            "Evaluating model f12 on dataset D'4\n"
          ]
        },
        {
          "output_type": "stream",
          "name": "stderr",
          "text": [
            "Extracting features: 100%|██████████| 2500/2500 [00:33<00:00, 74.62it/s]\n"
          ]
        },
        {
          "output_type": "stream",
          "name": "stdout",
          "text": [
            "Accuracy: 79.60%\n",
            "\n",
            "Evaluating model f12 on dataset D'5\n"
          ]
        },
        {
          "output_type": "stream",
          "name": "stderr",
          "text": [
            "Extracting features: 100%|██████████| 2500/2500 [00:32<00:00, 77.23it/s]\n"
          ]
        },
        {
          "output_type": "stream",
          "name": "stdout",
          "text": [
            "Accuracy: 79.04%\n",
            "\n",
            "Evaluating model f12 on dataset D'6\n"
          ]
        },
        {
          "output_type": "stream",
          "name": "stderr",
          "text": [
            "Extracting features: 100%|██████████| 2500/2500 [00:32<00:00, 76.50it/s]\n"
          ]
        },
        {
          "output_type": "stream",
          "name": "stdout",
          "text": [
            "Accuracy: 80.68%\n",
            "\n",
            "Evaluating model f12 on dataset D'7\n"
          ]
        },
        {
          "output_type": "stream",
          "name": "stderr",
          "text": [
            "Extracting features: 100%|██████████| 2500/2500 [00:32<00:00, 76.18it/s]\n"
          ]
        },
        {
          "output_type": "stream",
          "name": "stdout",
          "text": [
            "Accuracy: 78.52%\n",
            "\n",
            "Evaluating model f12 on dataset D'8\n"
          ]
        },
        {
          "output_type": "stream",
          "name": "stderr",
          "text": [
            "Extracting features: 100%|██████████| 2500/2500 [00:32<00:00, 77.27it/s]\n"
          ]
        },
        {
          "output_type": "stream",
          "name": "stdout",
          "text": [
            "Accuracy: 79.16%\n",
            "\n",
            "Evaluating model f12 on dataset D'9\n"
          ]
        },
        {
          "output_type": "stream",
          "name": "stderr",
          "text": [
            "Extracting features: 100%|██████████| 2500/2500 [00:35<00:00, 70.14it/s]\n"
          ]
        },
        {
          "output_type": "stream",
          "name": "stdout",
          "text": [
            "Accuracy: 80.00%\n",
            "\n",
            "Evaluating model f12 on dataset D'10\n"
          ]
        },
        {
          "output_type": "stream",
          "name": "stderr",
          "text": [
            "Extracting features: 100%|██████████| 2500/2500 [00:34<00:00, 73.29it/s]\n"
          ]
        },
        {
          "output_type": "stream",
          "name": "stdout",
          "text": [
            "Accuracy: 80.24%\n",
            "\n",
            "Evaluating model f12 on dataset D'11\n"
          ]
        },
        {
          "output_type": "stream",
          "name": "stderr",
          "text": [
            "Extracting features: 100%|██████████| 2500/2500 [00:34<00:00, 73.39it/s]\n"
          ]
        },
        {
          "output_type": "stream",
          "name": "stdout",
          "text": [
            "Accuracy: 65.68%\n",
            "\n",
            "Evaluating model f12 on dataset D'12\n"
          ]
        },
        {
          "output_type": "stream",
          "name": "stderr",
          "text": [
            "Extracting features: 100%|██████████| 2500/2500 [00:35<00:00, 69.93it/s]\n"
          ]
        },
        {
          "output_type": "stream",
          "name": "stdout",
          "text": [
            "Accuracy: 70.68%\n",
            "\n",
            "Evaluating model f13 on dataset D'1\n"
          ]
        },
        {
          "output_type": "stream",
          "name": "stderr",
          "text": [
            "Extracting features: 100%|██████████| 2500/2500 [00:34<00:00, 71.53it/s]\n"
          ]
        },
        {
          "output_type": "stream",
          "name": "stdout",
          "text": [
            "Accuracy: 79.20%\n",
            "\n",
            "Evaluating model f13 on dataset D'2\n"
          ]
        },
        {
          "output_type": "stream",
          "name": "stderr",
          "text": [
            "Extracting features: 100%|██████████| 2500/2500 [00:35<00:00, 70.49it/s]\n"
          ]
        },
        {
          "output_type": "stream",
          "name": "stdout",
          "text": [
            "Accuracy: 80.32%\n",
            "\n",
            "Evaluating model f13 on dataset D'3\n"
          ]
        },
        {
          "output_type": "stream",
          "name": "stderr",
          "text": [
            "Extracting features: 100%|██████████| 2500/2500 [00:36<00:00, 68.83it/s]\n"
          ]
        },
        {
          "output_type": "stream",
          "name": "stdout",
          "text": [
            "Accuracy: 78.32%\n",
            "\n",
            "Evaluating model f13 on dataset D'4\n"
          ]
        },
        {
          "output_type": "stream",
          "name": "stderr",
          "text": [
            "Extracting features: 100%|██████████| 2500/2500 [00:32<00:00, 77.15it/s]\n"
          ]
        },
        {
          "output_type": "stream",
          "name": "stdout",
          "text": [
            "Accuracy: 79.60%\n",
            "\n",
            "Evaluating model f13 on dataset D'5\n"
          ]
        },
        {
          "output_type": "stream",
          "name": "stderr",
          "text": [
            "Extracting features: 100%|██████████| 2500/2500 [00:35<00:00, 70.51it/s]\n"
          ]
        },
        {
          "output_type": "stream",
          "name": "stdout",
          "text": [
            "Accuracy: 79.04%\n",
            "\n",
            "Evaluating model f13 on dataset D'6\n"
          ]
        },
        {
          "output_type": "stream",
          "name": "stderr",
          "text": [
            "Extracting features: 100%|██████████| 2500/2500 [00:35<00:00, 71.32it/s]\n"
          ]
        },
        {
          "output_type": "stream",
          "name": "stdout",
          "text": [
            "Accuracy: 80.68%\n",
            "\n",
            "Evaluating model f13 on dataset D'7\n"
          ]
        },
        {
          "output_type": "stream",
          "name": "stderr",
          "text": [
            "Extracting features: 100%|██████████| 2500/2500 [00:34<00:00, 72.84it/s]\n"
          ]
        },
        {
          "output_type": "stream",
          "name": "stdout",
          "text": [
            "Accuracy: 78.52%\n",
            "\n",
            "Evaluating model f13 on dataset D'8\n"
          ]
        },
        {
          "output_type": "stream",
          "name": "stderr",
          "text": [
            "Extracting features: 100%|██████████| 2500/2500 [00:35<00:00, 70.75it/s]\n"
          ]
        },
        {
          "output_type": "stream",
          "name": "stdout",
          "text": [
            "Accuracy: 79.16%\n",
            "\n",
            "Evaluating model f13 on dataset D'9\n"
          ]
        },
        {
          "output_type": "stream",
          "name": "stderr",
          "text": [
            "Extracting features: 100%|██████████| 2500/2500 [00:34<00:00, 73.08it/s]\n"
          ]
        },
        {
          "output_type": "stream",
          "name": "stdout",
          "text": [
            "Accuracy: 80.00%\n",
            "\n",
            "Evaluating model f13 on dataset D'10\n"
          ]
        },
        {
          "output_type": "stream",
          "name": "stderr",
          "text": [
            "Extracting features: 100%|██████████| 2500/2500 [00:37<00:00, 67.32it/s]\n"
          ]
        },
        {
          "output_type": "stream",
          "name": "stdout",
          "text": [
            "Accuracy: 80.24%\n",
            "\n",
            "Evaluating model f13 on dataset D'11\n"
          ]
        },
        {
          "output_type": "stream",
          "name": "stderr",
          "text": [
            "Extracting features: 100%|██████████| 2500/2500 [00:34<00:00, 73.29it/s]\n"
          ]
        },
        {
          "output_type": "stream",
          "name": "stdout",
          "text": [
            "Accuracy: 65.68%\n",
            "\n",
            "Evaluating model f13 on dataset D'12\n"
          ]
        },
        {
          "output_type": "stream",
          "name": "stderr",
          "text": [
            "Extracting features: 100%|██████████| 2500/2500 [00:36<00:00, 69.34it/s]\n"
          ]
        },
        {
          "output_type": "stream",
          "name": "stdout",
          "text": [
            "Accuracy: 70.68%\n",
            "\n",
            "Evaluating model f13 on dataset D'13\n"
          ]
        },
        {
          "output_type": "stream",
          "name": "stderr",
          "text": [
            "Extracting features: 100%|██████████| 2500/2500 [00:34<00:00, 72.21it/s]\n"
          ]
        },
        {
          "output_type": "stream",
          "name": "stdout",
          "text": [
            "Accuracy: 70.40%\n",
            "\n",
            "Evaluating model f14 on dataset D'1\n"
          ]
        },
        {
          "output_type": "stream",
          "name": "stderr",
          "text": [
            "Extracting features: 100%|██████████| 2500/2500 [00:34<00:00, 71.68it/s]\n"
          ]
        },
        {
          "output_type": "stream",
          "name": "stdout",
          "text": [
            "Accuracy: 79.20%\n",
            "\n",
            "Evaluating model f14 on dataset D'2\n"
          ]
        },
        {
          "output_type": "stream",
          "name": "stderr",
          "text": [
            "Extracting features: 100%|██████████| 2500/2500 [00:34<00:00, 72.33it/s]\n"
          ]
        },
        {
          "output_type": "stream",
          "name": "stdout",
          "text": [
            "Accuracy: 80.32%\n",
            "\n",
            "Evaluating model f14 on dataset D'3\n"
          ]
        },
        {
          "output_type": "stream",
          "name": "stderr",
          "text": [
            "Extracting features: 100%|██████████| 2500/2500 [00:35<00:00, 70.32it/s]\n"
          ]
        },
        {
          "output_type": "stream",
          "name": "stdout",
          "text": [
            "Accuracy: 78.32%\n",
            "\n",
            "Evaluating model f14 on dataset D'4\n"
          ]
        },
        {
          "output_type": "stream",
          "name": "stderr",
          "text": [
            "Extracting features: 100%|██████████| 2500/2500 [00:33<00:00, 73.77it/s]\n"
          ]
        },
        {
          "output_type": "stream",
          "name": "stdout",
          "text": [
            "Accuracy: 79.60%\n",
            "\n",
            "Evaluating model f14 on dataset D'5\n"
          ]
        },
        {
          "output_type": "stream",
          "name": "stderr",
          "text": [
            "Extracting features: 100%|██████████| 2500/2500 [00:34<00:00, 73.50it/s]\n"
          ]
        },
        {
          "output_type": "stream",
          "name": "stdout",
          "text": [
            "Accuracy: 79.04%\n",
            "\n",
            "Evaluating model f14 on dataset D'6\n"
          ]
        },
        {
          "output_type": "stream",
          "name": "stderr",
          "text": [
            "Extracting features: 100%|██████████| 2500/2500 [00:32<00:00, 77.86it/s]\n"
          ]
        },
        {
          "output_type": "stream",
          "name": "stdout",
          "text": [
            "Accuracy: 80.68%\n",
            "\n",
            "Evaluating model f14 on dataset D'7\n"
          ]
        },
        {
          "output_type": "stream",
          "name": "stderr",
          "text": [
            "Extracting features: 100%|██████████| 2500/2500 [00:33<00:00, 73.74it/s]\n"
          ]
        },
        {
          "output_type": "stream",
          "name": "stdout",
          "text": [
            "Accuracy: 78.52%\n",
            "\n",
            "Evaluating model f14 on dataset D'8\n"
          ]
        },
        {
          "output_type": "stream",
          "name": "stderr",
          "text": [
            "Extracting features: 100%|██████████| 2500/2500 [00:34<00:00, 72.97it/s]\n"
          ]
        },
        {
          "output_type": "stream",
          "name": "stdout",
          "text": [
            "Accuracy: 79.16%\n",
            "\n",
            "Evaluating model f14 on dataset D'9\n"
          ]
        },
        {
          "output_type": "stream",
          "name": "stderr",
          "text": [
            "Extracting features: 100%|██████████| 2500/2500 [00:32<00:00, 76.82it/s]\n"
          ]
        },
        {
          "output_type": "stream",
          "name": "stdout",
          "text": [
            "Accuracy: 80.00%\n",
            "\n",
            "Evaluating model f14 on dataset D'10\n"
          ]
        },
        {
          "output_type": "stream",
          "name": "stderr",
          "text": [
            "Extracting features: 100%|██████████| 2500/2500 [00:32<00:00, 76.39it/s]\n"
          ]
        },
        {
          "output_type": "stream",
          "name": "stdout",
          "text": [
            "Accuracy: 80.24%\n",
            "\n",
            "Evaluating model f14 on dataset D'11\n"
          ]
        },
        {
          "output_type": "stream",
          "name": "stderr",
          "text": [
            "Extracting features: 100%|██████████| 2500/2500 [00:32<00:00, 77.53it/s]\n"
          ]
        },
        {
          "output_type": "stream",
          "name": "stdout",
          "text": [
            "Accuracy: 65.68%\n",
            "\n",
            "Evaluating model f14 on dataset D'12\n"
          ]
        },
        {
          "output_type": "stream",
          "name": "stderr",
          "text": [
            "Extracting features: 100%|██████████| 2500/2500 [00:34<00:00, 72.06it/s]\n"
          ]
        },
        {
          "output_type": "stream",
          "name": "stdout",
          "text": [
            "Accuracy: 70.68%\n",
            "\n",
            "Evaluating model f14 on dataset D'13\n"
          ]
        },
        {
          "output_type": "stream",
          "name": "stderr",
          "text": [
            "Extracting features: 100%|██████████| 2500/2500 [00:33<00:00, 75.21it/s]\n"
          ]
        },
        {
          "output_type": "stream",
          "name": "stdout",
          "text": [
            "Accuracy: 70.40%\n",
            "\n",
            "Evaluating model f14 on dataset D'14\n"
          ]
        },
        {
          "output_type": "stream",
          "name": "stderr",
          "text": [
            "Extracting features: 100%|██████████| 2500/2500 [00:33<00:00, 75.33it/s]\n"
          ]
        },
        {
          "output_type": "stream",
          "name": "stdout",
          "text": [
            "Accuracy: 60.20%\n",
            "\n",
            "Evaluating model f15 on dataset D'1\n"
          ]
        },
        {
          "output_type": "stream",
          "name": "stderr",
          "text": [
            "Extracting features: 100%|██████████| 2500/2500 [00:31<00:00, 78.36it/s]\n"
          ]
        },
        {
          "output_type": "stream",
          "name": "stdout",
          "text": [
            "Accuracy: 79.20%\n",
            "\n",
            "Evaluating model f15 on dataset D'2\n"
          ]
        },
        {
          "output_type": "stream",
          "name": "stderr",
          "text": [
            "Extracting features: 100%|██████████| 2500/2500 [00:31<00:00, 78.58it/s]\n"
          ]
        },
        {
          "output_type": "stream",
          "name": "stdout",
          "text": [
            "Accuracy: 80.32%\n",
            "\n",
            "Evaluating model f15 on dataset D'3\n"
          ]
        },
        {
          "output_type": "stream",
          "name": "stderr",
          "text": [
            "Extracting features: 100%|██████████| 2500/2500 [00:32<00:00, 76.30it/s]\n"
          ]
        },
        {
          "output_type": "stream",
          "name": "stdout",
          "text": [
            "Accuracy: 78.32%\n",
            "\n",
            "Evaluating model f15 on dataset D'4\n"
          ]
        },
        {
          "output_type": "stream",
          "name": "stderr",
          "text": [
            "Extracting features: 100%|██████████| 2500/2500 [00:31<00:00, 79.06it/s]\n"
          ]
        },
        {
          "output_type": "stream",
          "name": "stdout",
          "text": [
            "Accuracy: 79.60%\n",
            "\n",
            "Evaluating model f15 on dataset D'5\n"
          ]
        },
        {
          "output_type": "stream",
          "name": "stderr",
          "text": [
            "Extracting features: 100%|██████████| 2500/2500 [00:31<00:00, 79.94it/s]\n"
          ]
        },
        {
          "output_type": "stream",
          "name": "stdout",
          "text": [
            "Accuracy: 79.04%\n",
            "\n",
            "Evaluating model f15 on dataset D'6\n"
          ]
        },
        {
          "output_type": "stream",
          "name": "stderr",
          "text": [
            "Extracting features: 100%|██████████| 2500/2500 [00:32<00:00, 76.57it/s]\n"
          ]
        },
        {
          "output_type": "stream",
          "name": "stdout",
          "text": [
            "Accuracy: 80.68%\n",
            "\n",
            "Evaluating model f15 on dataset D'7\n"
          ]
        },
        {
          "output_type": "stream",
          "name": "stderr",
          "text": [
            "Extracting features: 100%|██████████| 2500/2500 [00:32<00:00, 77.84it/s]\n"
          ]
        },
        {
          "output_type": "stream",
          "name": "stdout",
          "text": [
            "Accuracy: 78.52%\n",
            "\n",
            "Evaluating model f15 on dataset D'8\n"
          ]
        },
        {
          "output_type": "stream",
          "name": "stderr",
          "text": [
            "Extracting features: 100%|██████████| 2500/2500 [00:32<00:00, 76.75it/s]\n"
          ]
        },
        {
          "output_type": "stream",
          "name": "stdout",
          "text": [
            "Accuracy: 79.16%\n",
            "\n",
            "Evaluating model f15 on dataset D'9\n"
          ]
        },
        {
          "output_type": "stream",
          "name": "stderr",
          "text": [
            "Extracting features: 100%|██████████| 2500/2500 [00:32<00:00, 76.13it/s]\n"
          ]
        },
        {
          "output_type": "stream",
          "name": "stdout",
          "text": [
            "Accuracy: 80.00%\n",
            "\n",
            "Evaluating model f15 on dataset D'10\n"
          ]
        },
        {
          "output_type": "stream",
          "name": "stderr",
          "text": [
            "Extracting features: 100%|██████████| 2500/2500 [00:32<00:00, 75.79it/s]\n"
          ]
        },
        {
          "output_type": "stream",
          "name": "stdout",
          "text": [
            "Accuracy: 80.24%\n",
            "\n",
            "Evaluating model f15 on dataset D'11\n"
          ]
        },
        {
          "output_type": "stream",
          "name": "stderr",
          "text": [
            "Extracting features: 100%|██████████| 2500/2500 [00:33<00:00, 75.61it/s]\n"
          ]
        },
        {
          "output_type": "stream",
          "name": "stdout",
          "text": [
            "Accuracy: 65.68%\n",
            "\n",
            "Evaluating model f15 on dataset D'12\n"
          ]
        },
        {
          "output_type": "stream",
          "name": "stderr",
          "text": [
            "Extracting features: 100%|██████████| 2500/2500 [00:32<00:00, 78.06it/s]\n"
          ]
        },
        {
          "output_type": "stream",
          "name": "stdout",
          "text": [
            "Accuracy: 70.68%\n",
            "\n",
            "Evaluating model f15 on dataset D'13\n"
          ]
        },
        {
          "output_type": "stream",
          "name": "stderr",
          "text": [
            "Extracting features: 100%|██████████| 2500/2500 [00:35<00:00, 70.73it/s]\n"
          ]
        },
        {
          "output_type": "stream",
          "name": "stdout",
          "text": [
            "Accuracy: 70.40%\n",
            "\n",
            "Evaluating model f15 on dataset D'14\n"
          ]
        },
        {
          "output_type": "stream",
          "name": "stderr",
          "text": [
            "Extracting features: 100%|██████████| 2500/2500 [00:38<00:00, 65.77it/s]\n"
          ]
        },
        {
          "output_type": "stream",
          "name": "stdout",
          "text": [
            "Accuracy: 60.20%\n",
            "\n",
            "Evaluating model f15 on dataset D'15\n"
          ]
        },
        {
          "output_type": "stream",
          "name": "stderr",
          "text": [
            "Extracting features: 100%|██████████| 2500/2500 [00:34<00:00, 71.54it/s]\n"
          ]
        },
        {
          "output_type": "stream",
          "name": "stdout",
          "text": [
            "Accuracy: 75.36%\n",
            "\n",
            "Evaluating model f16 on dataset D'1\n"
          ]
        },
        {
          "output_type": "stream",
          "name": "stderr",
          "text": [
            "Extracting features: 100%|██████████| 2500/2500 [00:34<00:00, 73.40it/s]\n"
          ]
        },
        {
          "output_type": "stream",
          "name": "stdout",
          "text": [
            "Accuracy: 79.20%\n",
            "\n",
            "Evaluating model f16 on dataset D'2\n"
          ]
        },
        {
          "output_type": "stream",
          "name": "stderr",
          "text": [
            "Extracting features: 100%|██████████| 2500/2500 [00:34<00:00, 72.14it/s]\n"
          ]
        },
        {
          "output_type": "stream",
          "name": "stdout",
          "text": [
            "Accuracy: 80.32%\n",
            "\n",
            "Evaluating model f16 on dataset D'3\n"
          ]
        },
        {
          "output_type": "stream",
          "name": "stderr",
          "text": [
            "Extracting features: 100%|██████████| 2500/2500 [00:34<00:00, 72.88it/s]\n"
          ]
        },
        {
          "output_type": "stream",
          "name": "stdout",
          "text": [
            "Accuracy: 78.32%\n",
            "\n",
            "Evaluating model f16 on dataset D'4\n"
          ]
        },
        {
          "output_type": "stream",
          "name": "stderr",
          "text": [
            "Extracting features: 100%|██████████| 2500/2500 [00:35<00:00, 69.66it/s]\n"
          ]
        },
        {
          "output_type": "stream",
          "name": "stdout",
          "text": [
            "Accuracy: 79.60%\n",
            "\n",
            "Evaluating model f16 on dataset D'5\n"
          ]
        },
        {
          "output_type": "stream",
          "name": "stderr",
          "text": [
            "Extracting features: 100%|██████████| 2500/2500 [00:33<00:00, 73.66it/s]\n"
          ]
        },
        {
          "output_type": "stream",
          "name": "stdout",
          "text": [
            "Accuracy: 79.04%\n",
            "\n",
            "Evaluating model f16 on dataset D'6\n"
          ]
        },
        {
          "output_type": "stream",
          "name": "stderr",
          "text": [
            "Extracting features: 100%|██████████| 2500/2500 [00:36<00:00, 68.97it/s]\n"
          ]
        },
        {
          "output_type": "stream",
          "name": "stdout",
          "text": [
            "Accuracy: 80.68%\n",
            "\n",
            "Evaluating model f16 on dataset D'7\n"
          ]
        },
        {
          "output_type": "stream",
          "name": "stderr",
          "text": [
            "Extracting features: 100%|██████████| 2500/2500 [00:34<00:00, 71.73it/s]\n"
          ]
        },
        {
          "output_type": "stream",
          "name": "stdout",
          "text": [
            "Accuracy: 78.52%\n",
            "\n",
            "Evaluating model f16 on dataset D'8\n"
          ]
        },
        {
          "output_type": "stream",
          "name": "stderr",
          "text": [
            "Extracting features: 100%|██████████| 2500/2500 [00:34<00:00, 71.77it/s]\n"
          ]
        },
        {
          "output_type": "stream",
          "name": "stdout",
          "text": [
            "Accuracy: 79.16%\n",
            "\n",
            "Evaluating model f16 on dataset D'9\n"
          ]
        },
        {
          "output_type": "stream",
          "name": "stderr",
          "text": [
            "Extracting features: 100%|██████████| 2500/2500 [00:36<00:00, 69.12it/s]\n"
          ]
        },
        {
          "output_type": "stream",
          "name": "stdout",
          "text": [
            "Accuracy: 80.00%\n",
            "\n",
            "Evaluating model f16 on dataset D'10\n"
          ]
        },
        {
          "output_type": "stream",
          "name": "stderr",
          "text": [
            "Extracting features: 100%|██████████| 2500/2500 [00:33<00:00, 74.22it/s]\n"
          ]
        },
        {
          "output_type": "stream",
          "name": "stdout",
          "text": [
            "Accuracy: 80.24%\n",
            "\n",
            "Evaluating model f16 on dataset D'11\n"
          ]
        },
        {
          "output_type": "stream",
          "name": "stderr",
          "text": [
            "Extracting features: 100%|██████████| 2500/2500 [00:37<00:00, 66.95it/s]\n"
          ]
        },
        {
          "output_type": "stream",
          "name": "stdout",
          "text": [
            "Accuracy: 65.68%\n",
            "\n",
            "Evaluating model f16 on dataset D'12\n"
          ]
        },
        {
          "output_type": "stream",
          "name": "stderr",
          "text": [
            "Extracting features: 100%|██████████| 2500/2500 [00:33<00:00, 73.79it/s]\n"
          ]
        },
        {
          "output_type": "stream",
          "name": "stdout",
          "text": [
            "Accuracy: 70.68%\n",
            "\n",
            "Evaluating model f16 on dataset D'13\n"
          ]
        },
        {
          "output_type": "stream",
          "name": "stderr",
          "text": [
            "Extracting features: 100%|██████████| 2500/2500 [00:35<00:00, 70.73it/s]\n"
          ]
        },
        {
          "output_type": "stream",
          "name": "stdout",
          "text": [
            "Accuracy: 70.40%\n",
            "\n",
            "Evaluating model f16 on dataset D'14\n"
          ]
        },
        {
          "output_type": "stream",
          "name": "stderr",
          "text": [
            "Extracting features: 100%|██████████| 2500/2500 [00:33<00:00, 74.64it/s]\n"
          ]
        },
        {
          "output_type": "stream",
          "name": "stdout",
          "text": [
            "Accuracy: 60.20%\n",
            "\n",
            "Evaluating model f16 on dataset D'15\n"
          ]
        },
        {
          "output_type": "stream",
          "name": "stderr",
          "text": [
            "Extracting features: 100%|██████████| 2500/2500 [00:32<00:00, 75.98it/s]\n"
          ]
        },
        {
          "output_type": "stream",
          "name": "stdout",
          "text": [
            "Accuracy: 75.36%\n",
            "\n",
            "Evaluating model f16 on dataset D'16\n"
          ]
        },
        {
          "output_type": "stream",
          "name": "stderr",
          "text": [
            "Extracting features: 100%|██████████| 2500/2500 [00:33<00:00, 75.72it/s]\n"
          ]
        },
        {
          "output_type": "stream",
          "name": "stdout",
          "text": [
            "Accuracy: 64.56%\n",
            "\n",
            "Evaluating model f17 on dataset D'1\n"
          ]
        },
        {
          "output_type": "stream",
          "name": "stderr",
          "text": [
            "Extracting features: 100%|██████████| 2500/2500 [00:31<00:00, 78.18it/s]\n"
          ]
        },
        {
          "output_type": "stream",
          "name": "stdout",
          "text": [
            "Accuracy: 79.20%\n",
            "\n",
            "Evaluating model f17 on dataset D'2\n"
          ]
        },
        {
          "output_type": "stream",
          "name": "stderr",
          "text": [
            "Extracting features: 100%|██████████| 2500/2500 [00:33<00:00, 75.56it/s]\n"
          ]
        },
        {
          "output_type": "stream",
          "name": "stdout",
          "text": [
            "Accuracy: 80.32%\n",
            "\n",
            "Evaluating model f17 on dataset D'3\n"
          ]
        },
        {
          "output_type": "stream",
          "name": "stderr",
          "text": [
            "Extracting features: 100%|██████████| 2500/2500 [00:33<00:00, 74.88it/s]\n"
          ]
        },
        {
          "output_type": "stream",
          "name": "stdout",
          "text": [
            "Accuracy: 78.32%\n",
            "\n",
            "Evaluating model f17 on dataset D'4\n"
          ]
        },
        {
          "output_type": "stream",
          "name": "stderr",
          "text": [
            "Extracting features: 100%|██████████| 2500/2500 [00:32<00:00, 76.03it/s]\n"
          ]
        },
        {
          "output_type": "stream",
          "name": "stdout",
          "text": [
            "Accuracy: 79.60%\n",
            "\n",
            "Evaluating model f17 on dataset D'5\n"
          ]
        },
        {
          "output_type": "stream",
          "name": "stderr",
          "text": [
            "Extracting features: 100%|██████████| 2500/2500 [00:33<00:00, 75.49it/s]\n"
          ]
        },
        {
          "output_type": "stream",
          "name": "stdout",
          "text": [
            "Accuracy: 79.04%\n",
            "\n",
            "Evaluating model f17 on dataset D'6\n"
          ]
        },
        {
          "output_type": "stream",
          "name": "stderr",
          "text": [
            "Extracting features: 100%|██████████| 2500/2500 [00:32<00:00, 77.12it/s]\n"
          ]
        },
        {
          "output_type": "stream",
          "name": "stdout",
          "text": [
            "Accuracy: 80.68%\n",
            "\n",
            "Evaluating model f17 on dataset D'7\n"
          ]
        },
        {
          "output_type": "stream",
          "name": "stderr",
          "text": [
            "Extracting features: 100%|██████████| 2500/2500 [00:31<00:00, 79.06it/s]\n"
          ]
        },
        {
          "output_type": "stream",
          "name": "stdout",
          "text": [
            "Accuracy: 78.52%\n",
            "\n",
            "Evaluating model f17 on dataset D'8\n"
          ]
        },
        {
          "output_type": "stream",
          "name": "stderr",
          "text": [
            "Extracting features: 100%|██████████| 2500/2500 [00:34<00:00, 72.72it/s]\n"
          ]
        },
        {
          "output_type": "stream",
          "name": "stdout",
          "text": [
            "Accuracy: 79.16%\n",
            "\n",
            "Evaluating model f17 on dataset D'9\n"
          ]
        },
        {
          "output_type": "stream",
          "name": "stderr",
          "text": [
            "Extracting features: 100%|██████████| 2500/2500 [00:31<00:00, 78.37it/s]\n"
          ]
        },
        {
          "output_type": "stream",
          "name": "stdout",
          "text": [
            "Accuracy: 80.00%\n",
            "\n",
            "Evaluating model f17 on dataset D'10\n"
          ]
        },
        {
          "output_type": "stream",
          "name": "stderr",
          "text": [
            "Extracting features: 100%|██████████| 2500/2500 [00:32<00:00, 75.86it/s]\n"
          ]
        },
        {
          "output_type": "stream",
          "name": "stdout",
          "text": [
            "Accuracy: 80.24%\n",
            "\n",
            "Evaluating model f17 on dataset D'11\n"
          ]
        },
        {
          "output_type": "stream",
          "name": "stderr",
          "text": [
            "Extracting features: 100%|██████████| 2500/2500 [00:32<00:00, 76.88it/s]\n"
          ]
        },
        {
          "output_type": "stream",
          "name": "stdout",
          "text": [
            "Accuracy: 65.68%\n",
            "\n",
            "Evaluating model f17 on dataset D'12\n"
          ]
        },
        {
          "output_type": "stream",
          "name": "stderr",
          "text": [
            "Extracting features: 100%|██████████| 2500/2500 [00:32<00:00, 75.80it/s]\n"
          ]
        },
        {
          "output_type": "stream",
          "name": "stdout",
          "text": [
            "Accuracy: 70.68%\n",
            "\n",
            "Evaluating model f17 on dataset D'13\n"
          ]
        },
        {
          "output_type": "stream",
          "name": "stderr",
          "text": [
            "Extracting features: 100%|██████████| 2500/2500 [00:32<00:00, 76.85it/s]\n"
          ]
        },
        {
          "output_type": "stream",
          "name": "stdout",
          "text": [
            "Accuracy: 70.40%\n",
            "\n",
            "Evaluating model f17 on dataset D'14\n"
          ]
        },
        {
          "output_type": "stream",
          "name": "stderr",
          "text": [
            "Extracting features: 100%|██████████| 2500/2500 [00:32<00:00, 77.67it/s]\n"
          ]
        },
        {
          "output_type": "stream",
          "name": "stdout",
          "text": [
            "Accuracy: 60.20%\n",
            "\n",
            "Evaluating model f17 on dataset D'15\n"
          ]
        },
        {
          "output_type": "stream",
          "name": "stderr",
          "text": [
            "Extracting features: 100%|██████████| 2500/2500 [00:34<00:00, 72.61it/s]\n"
          ]
        },
        {
          "output_type": "stream",
          "name": "stdout",
          "text": [
            "Accuracy: 75.36%\n",
            "\n",
            "Evaluating model f17 on dataset D'16\n"
          ]
        },
        {
          "output_type": "stream",
          "name": "stderr",
          "text": [
            "Extracting features: 100%|██████████| 2500/2500 [00:32<00:00, 76.25it/s]\n"
          ]
        },
        {
          "output_type": "stream",
          "name": "stdout",
          "text": [
            "Accuracy: 64.56%\n",
            "\n",
            "Evaluating model f17 on dataset D'17\n"
          ]
        },
        {
          "output_type": "stream",
          "name": "stderr",
          "text": [
            "Extracting features: 100%|██████████| 2500/2500 [00:32<00:00, 75.94it/s]\n"
          ]
        },
        {
          "output_type": "stream",
          "name": "stdout",
          "text": [
            "Accuracy: 62.88%\n",
            "\n",
            "Evaluating model f18 on dataset D'1\n"
          ]
        },
        {
          "output_type": "stream",
          "name": "stderr",
          "text": [
            "Extracting features: 100%|██████████| 2500/2500 [00:35<00:00, 70.16it/s]\n"
          ]
        },
        {
          "output_type": "stream",
          "name": "stdout",
          "text": [
            "Accuracy: 79.20%\n",
            "\n",
            "Evaluating model f18 on dataset D'2\n"
          ]
        },
        {
          "output_type": "stream",
          "name": "stderr",
          "text": [
            "Extracting features: 100%|██████████| 2500/2500 [00:36<00:00, 67.76it/s]\n"
          ]
        },
        {
          "output_type": "stream",
          "name": "stdout",
          "text": [
            "Accuracy: 80.32%\n",
            "\n",
            "Evaluating model f18 on dataset D'3\n"
          ]
        },
        {
          "output_type": "stream",
          "name": "stderr",
          "text": [
            "Extracting features: 100%|██████████| 2500/2500 [00:35<00:00, 71.05it/s]\n"
          ]
        },
        {
          "output_type": "stream",
          "name": "stdout",
          "text": [
            "Accuracy: 78.32%\n",
            "\n",
            "Evaluating model f18 on dataset D'4\n"
          ]
        },
        {
          "output_type": "stream",
          "name": "stderr",
          "text": [
            "Extracting features: 100%|██████████| 2500/2500 [00:36<00:00, 68.36it/s]\n"
          ]
        },
        {
          "output_type": "stream",
          "name": "stdout",
          "text": [
            "Accuracy: 79.60%\n",
            "\n",
            "Evaluating model f18 on dataset D'5\n"
          ]
        },
        {
          "output_type": "stream",
          "name": "stderr",
          "text": [
            "Extracting features: 100%|██████████| 2500/2500 [00:36<00:00, 69.15it/s]\n"
          ]
        },
        {
          "output_type": "stream",
          "name": "stdout",
          "text": [
            "Accuracy: 79.04%\n",
            "\n",
            "Evaluating model f18 on dataset D'6\n"
          ]
        },
        {
          "output_type": "stream",
          "name": "stderr",
          "text": [
            "Extracting features: 100%|██████████| 2500/2500 [00:36<00:00, 68.89it/s]\n"
          ]
        },
        {
          "output_type": "stream",
          "name": "stdout",
          "text": [
            "Accuracy: 80.68%\n",
            "\n",
            "Evaluating model f18 on dataset D'7\n"
          ]
        },
        {
          "output_type": "stream",
          "name": "stderr",
          "text": [
            "Extracting features: 100%|██████████| 2500/2500 [00:33<00:00, 74.18it/s]\n"
          ]
        },
        {
          "output_type": "stream",
          "name": "stdout",
          "text": [
            "Accuracy: 78.52%\n",
            "\n",
            "Evaluating model f18 on dataset D'8\n"
          ]
        },
        {
          "output_type": "stream",
          "name": "stderr",
          "text": [
            "Extracting features: 100%|██████████| 2500/2500 [00:34<00:00, 72.52it/s]\n"
          ]
        },
        {
          "output_type": "stream",
          "name": "stdout",
          "text": [
            "Accuracy: 79.16%\n",
            "\n",
            "Evaluating model f18 on dataset D'9\n"
          ]
        },
        {
          "output_type": "stream",
          "name": "stderr",
          "text": [
            "Extracting features: 100%|██████████| 2500/2500 [00:33<00:00, 74.20it/s]\n"
          ]
        },
        {
          "output_type": "stream",
          "name": "stdout",
          "text": [
            "Accuracy: 80.00%\n",
            "\n",
            "Evaluating model f18 on dataset D'10\n"
          ]
        },
        {
          "output_type": "stream",
          "name": "stderr",
          "text": [
            "Extracting features: 100%|██████████| 2500/2500 [00:35<00:00, 69.68it/s]\n"
          ]
        },
        {
          "output_type": "stream",
          "name": "stdout",
          "text": [
            "Accuracy: 80.24%\n",
            "\n",
            "Evaluating model f18 on dataset D'11\n"
          ]
        },
        {
          "output_type": "stream",
          "name": "stderr",
          "text": [
            "Extracting features: 100%|██████████| 2500/2500 [00:34<00:00, 72.71it/s]\n"
          ]
        },
        {
          "output_type": "stream",
          "name": "stdout",
          "text": [
            "Accuracy: 65.68%\n",
            "\n",
            "Evaluating model f18 on dataset D'12\n"
          ]
        },
        {
          "output_type": "stream",
          "name": "stderr",
          "text": [
            "Extracting features: 100%|██████████| 2500/2500 [00:35<00:00, 69.57it/s]\n"
          ]
        },
        {
          "output_type": "stream",
          "name": "stdout",
          "text": [
            "Accuracy: 70.68%\n",
            "\n",
            "Evaluating model f18 on dataset D'13\n"
          ]
        },
        {
          "output_type": "stream",
          "name": "stderr",
          "text": [
            "Extracting features: 100%|██████████| 2500/2500 [00:35<00:00, 71.18it/s]\n"
          ]
        },
        {
          "output_type": "stream",
          "name": "stdout",
          "text": [
            "Accuracy: 70.40%\n",
            "\n",
            "Evaluating model f18 on dataset D'14\n"
          ]
        },
        {
          "output_type": "stream",
          "name": "stderr",
          "text": [
            "Extracting features: 100%|██████████| 2500/2500 [00:37<00:00, 66.61it/s]\n"
          ]
        },
        {
          "output_type": "stream",
          "name": "stdout",
          "text": [
            "Accuracy: 60.20%\n",
            "\n",
            "Evaluating model f18 on dataset D'15\n"
          ]
        },
        {
          "output_type": "stream",
          "name": "stderr",
          "text": [
            "Extracting features: 100%|██████████| 2500/2500 [00:33<00:00, 74.26it/s]\n"
          ]
        },
        {
          "output_type": "stream",
          "name": "stdout",
          "text": [
            "Accuracy: 75.36%\n",
            "\n",
            "Evaluating model f18 on dataset D'16\n"
          ]
        },
        {
          "output_type": "stream",
          "name": "stderr",
          "text": [
            "Extracting features: 100%|██████████| 2500/2500 [00:36<00:00, 68.87it/s]\n"
          ]
        },
        {
          "output_type": "stream",
          "name": "stdout",
          "text": [
            "Accuracy: 64.56%\n",
            "\n",
            "Evaluating model f18 on dataset D'17\n"
          ]
        },
        {
          "output_type": "stream",
          "name": "stderr",
          "text": [
            "Extracting features: 100%|██████████| 2500/2500 [00:36<00:00, 69.15it/s]\n"
          ]
        },
        {
          "output_type": "stream",
          "name": "stdout",
          "text": [
            "Accuracy: 62.88%\n",
            "\n",
            "Evaluating model f18 on dataset D'18\n"
          ]
        },
        {
          "output_type": "stream",
          "name": "stderr",
          "text": [
            "Extracting features: 100%|██████████| 2500/2500 [00:34<00:00, 73.23it/s]\n"
          ]
        },
        {
          "output_type": "stream",
          "name": "stdout",
          "text": [
            "Accuracy: 67.60%\n",
            "\n",
            "Evaluating model f19 on dataset D'1\n"
          ]
        },
        {
          "output_type": "stream",
          "name": "stderr",
          "text": [
            "Extracting features: 100%|██████████| 2500/2500 [00:35<00:00, 71.21it/s]\n"
          ]
        },
        {
          "output_type": "stream",
          "name": "stdout",
          "text": [
            "Accuracy: 79.20%\n",
            "\n",
            "Evaluating model f19 on dataset D'2\n"
          ]
        },
        {
          "output_type": "stream",
          "name": "stderr",
          "text": [
            "Extracting features: 100%|██████████| 2500/2500 [00:35<00:00, 69.97it/s]\n"
          ]
        },
        {
          "output_type": "stream",
          "name": "stdout",
          "text": [
            "Accuracy: 80.32%\n",
            "\n",
            "Evaluating model f19 on dataset D'3\n"
          ]
        },
        {
          "output_type": "stream",
          "name": "stderr",
          "text": [
            "Extracting features: 100%|██████████| 2500/2500 [00:35<00:00, 70.00it/s]\n"
          ]
        },
        {
          "output_type": "stream",
          "name": "stdout",
          "text": [
            "Accuracy: 78.32%\n",
            "\n",
            "Evaluating model f19 on dataset D'4\n"
          ]
        },
        {
          "output_type": "stream",
          "name": "stderr",
          "text": [
            "Extracting features: 100%|██████████| 2500/2500 [00:36<00:00, 69.01it/s]\n"
          ]
        },
        {
          "output_type": "stream",
          "name": "stdout",
          "text": [
            "Accuracy: 79.60%\n",
            "\n",
            "Evaluating model f19 on dataset D'5\n"
          ]
        },
        {
          "output_type": "stream",
          "name": "stderr",
          "text": [
            "Extracting features: 100%|██████████| 2500/2500 [00:36<00:00, 68.36it/s]\n"
          ]
        },
        {
          "output_type": "stream",
          "name": "stdout",
          "text": [
            "Accuracy: 79.04%\n",
            "\n",
            "Evaluating model f19 on dataset D'6\n"
          ]
        },
        {
          "output_type": "stream",
          "name": "stderr",
          "text": [
            "Extracting features: 100%|██████████| 2500/2500 [00:37<00:00, 66.37it/s]\n"
          ]
        },
        {
          "output_type": "stream",
          "name": "stdout",
          "text": [
            "Accuracy: 80.68%\n",
            "\n",
            "Evaluating model f19 on dataset D'7\n"
          ]
        },
        {
          "output_type": "stream",
          "name": "stderr",
          "text": [
            "Extracting features: 100%|██████████| 2500/2500 [00:35<00:00, 70.03it/s]\n"
          ]
        },
        {
          "output_type": "stream",
          "name": "stdout",
          "text": [
            "Accuracy: 78.52%\n",
            "\n",
            "Evaluating model f19 on dataset D'8\n"
          ]
        },
        {
          "output_type": "stream",
          "name": "stderr",
          "text": [
            "Extracting features: 100%|██████████| 2500/2500 [00:34<00:00, 72.13it/s]\n"
          ]
        },
        {
          "output_type": "stream",
          "name": "stdout",
          "text": [
            "Accuracy: 79.16%\n",
            "\n",
            "Evaluating model f19 on dataset D'9\n"
          ]
        },
        {
          "output_type": "stream",
          "name": "stderr",
          "text": [
            "Extracting features: 100%|██████████| 2500/2500 [00:34<00:00, 72.99it/s]\n"
          ]
        },
        {
          "output_type": "stream",
          "name": "stdout",
          "text": [
            "Accuracy: 80.00%\n",
            "\n",
            "Evaluating model f19 on dataset D'10\n"
          ]
        },
        {
          "output_type": "stream",
          "name": "stderr",
          "text": [
            "Extracting features: 100%|██████████| 2500/2500 [00:35<00:00, 69.51it/s]\n"
          ]
        },
        {
          "output_type": "stream",
          "name": "stdout",
          "text": [
            "Accuracy: 80.24%\n",
            "\n",
            "Evaluating model f19 on dataset D'11\n"
          ]
        },
        {
          "output_type": "stream",
          "name": "stderr",
          "text": [
            "Extracting features: 100%|██████████| 2500/2500 [00:34<00:00, 72.67it/s]\n"
          ]
        },
        {
          "output_type": "stream",
          "name": "stdout",
          "text": [
            "Accuracy: 65.68%\n",
            "\n",
            "Evaluating model f19 on dataset D'12\n"
          ]
        },
        {
          "output_type": "stream",
          "name": "stderr",
          "text": [
            "Extracting features: 100%|██████████| 2500/2500 [00:34<00:00, 71.94it/s]\n"
          ]
        },
        {
          "output_type": "stream",
          "name": "stdout",
          "text": [
            "Accuracy: 70.68%\n",
            "\n",
            "Evaluating model f19 on dataset D'13\n"
          ]
        },
        {
          "output_type": "stream",
          "name": "stderr",
          "text": [
            "Extracting features: 100%|██████████| 2500/2500 [00:34<00:00, 72.80it/s]\n"
          ]
        },
        {
          "output_type": "stream",
          "name": "stdout",
          "text": [
            "Accuracy: 70.40%\n",
            "\n",
            "Evaluating model f19 on dataset D'14\n"
          ]
        },
        {
          "output_type": "stream",
          "name": "stderr",
          "text": [
            "Extracting features: 100%|██████████| 2500/2500 [00:37<00:00, 67.05it/s]\n"
          ]
        },
        {
          "output_type": "stream",
          "name": "stdout",
          "text": [
            "Accuracy: 60.20%\n",
            "\n",
            "Evaluating model f19 on dataset D'15\n"
          ]
        },
        {
          "output_type": "stream",
          "name": "stderr",
          "text": [
            "Extracting features: 100%|██████████| 2500/2500 [00:34<00:00, 72.30it/s]\n"
          ]
        },
        {
          "output_type": "stream",
          "name": "stdout",
          "text": [
            "Accuracy: 75.36%\n",
            "\n",
            "Evaluating model f19 on dataset D'16\n"
          ]
        },
        {
          "output_type": "stream",
          "name": "stderr",
          "text": [
            "Extracting features: 100%|██████████| 2500/2500 [00:36<00:00, 69.19it/s]\n"
          ]
        },
        {
          "output_type": "stream",
          "name": "stdout",
          "text": [
            "Accuracy: 64.56%\n",
            "\n",
            "Evaluating model f19 on dataset D'17\n"
          ]
        },
        {
          "output_type": "stream",
          "name": "stderr",
          "text": [
            "Extracting features: 100%|██████████| 2500/2500 [00:34<00:00, 72.79it/s]\n"
          ]
        },
        {
          "output_type": "stream",
          "name": "stdout",
          "text": [
            "Accuracy: 62.88%\n",
            "\n",
            "Evaluating model f19 on dataset D'18\n"
          ]
        },
        {
          "output_type": "stream",
          "name": "stderr",
          "text": [
            "Extracting features: 100%|██████████| 2500/2500 [00:35<00:00, 70.91it/s]\n"
          ]
        },
        {
          "output_type": "stream",
          "name": "stdout",
          "text": [
            "Accuracy: 67.60%\n",
            "\n",
            "Evaluating model f19 on dataset D'19\n"
          ]
        },
        {
          "output_type": "stream",
          "name": "stderr",
          "text": [
            "Extracting features: 100%|██████████| 2500/2500 [00:33<00:00, 75.05it/s]\n"
          ]
        },
        {
          "output_type": "stream",
          "name": "stdout",
          "text": [
            "Accuracy: 73.60%\n",
            "\n",
            "Evaluating model f20 on dataset D'1\n"
          ]
        },
        {
          "output_type": "stream",
          "name": "stderr",
          "text": [
            "Extracting features: 100%|██████████| 2500/2500 [00:33<00:00, 74.22it/s]\n"
          ]
        },
        {
          "output_type": "stream",
          "name": "stdout",
          "text": [
            "Accuracy: 79.20%\n",
            "\n",
            "Evaluating model f20 on dataset D'2\n"
          ]
        },
        {
          "output_type": "stream",
          "name": "stderr",
          "text": [
            "Extracting features: 100%|██████████| 2500/2500 [00:31<00:00, 78.96it/s]\n"
          ]
        },
        {
          "output_type": "stream",
          "name": "stdout",
          "text": [
            "Accuracy: 80.32%\n",
            "\n",
            "Evaluating model f20 on dataset D'3\n"
          ]
        },
        {
          "output_type": "stream",
          "name": "stderr",
          "text": [
            "Extracting features: 100%|██████████| 2500/2500 [00:32<00:00, 77.48it/s]\n"
          ]
        },
        {
          "output_type": "stream",
          "name": "stdout",
          "text": [
            "Accuracy: 78.32%\n",
            "\n",
            "Evaluating model f20 on dataset D'4\n"
          ]
        },
        {
          "output_type": "stream",
          "name": "stderr",
          "text": [
            "Extracting features: 100%|██████████| 2500/2500 [00:33<00:00, 74.51it/s]\n"
          ]
        },
        {
          "output_type": "stream",
          "name": "stdout",
          "text": [
            "Accuracy: 79.60%\n",
            "\n",
            "Evaluating model f20 on dataset D'5\n"
          ]
        },
        {
          "output_type": "stream",
          "name": "stderr",
          "text": [
            "Extracting features: 100%|██████████| 2500/2500 [00:31<00:00, 80.20it/s]\n"
          ]
        },
        {
          "output_type": "stream",
          "name": "stdout",
          "text": [
            "Accuracy: 79.04%\n",
            "\n",
            "Evaluating model f20 on dataset D'6\n"
          ]
        },
        {
          "output_type": "stream",
          "name": "stderr",
          "text": [
            "Extracting features: 100%|██████████| 2500/2500 [00:32<00:00, 76.19it/s]\n"
          ]
        },
        {
          "output_type": "stream",
          "name": "stdout",
          "text": [
            "Accuracy: 80.68%\n",
            "\n",
            "Evaluating model f20 on dataset D'7\n"
          ]
        },
        {
          "output_type": "stream",
          "name": "stderr",
          "text": [
            "Extracting features: 100%|██████████| 2500/2500 [00:34<00:00, 72.54it/s]\n"
          ]
        },
        {
          "output_type": "stream",
          "name": "stdout",
          "text": [
            "Accuracy: 78.52%\n",
            "\n",
            "Evaluating model f20 on dataset D'8\n"
          ]
        },
        {
          "output_type": "stream",
          "name": "stderr",
          "text": [
            "Extracting features: 100%|██████████| 2500/2500 [00:32<00:00, 76.93it/s]\n"
          ]
        },
        {
          "output_type": "stream",
          "name": "stdout",
          "text": [
            "Accuracy: 79.16%\n",
            "\n",
            "Evaluating model f20 on dataset D'9\n"
          ]
        },
        {
          "output_type": "stream",
          "name": "stderr",
          "text": [
            "Extracting features: 100%|██████████| 2500/2500 [00:33<00:00, 75.13it/s]\n"
          ]
        },
        {
          "output_type": "stream",
          "name": "stdout",
          "text": [
            "Accuracy: 80.00%\n",
            "\n",
            "Evaluating model f20 on dataset D'10\n"
          ]
        },
        {
          "output_type": "stream",
          "name": "stderr",
          "text": [
            "Extracting features: 100%|██████████| 2500/2500 [00:32<00:00, 76.07it/s]\n"
          ]
        },
        {
          "output_type": "stream",
          "name": "stdout",
          "text": [
            "Accuracy: 80.24%\n",
            "\n",
            "Evaluating model f20 on dataset D'11\n"
          ]
        },
        {
          "output_type": "stream",
          "name": "stderr",
          "text": [
            "Extracting features: 100%|██████████| 2500/2500 [00:31<00:00, 78.40it/s]\n"
          ]
        },
        {
          "output_type": "stream",
          "name": "stdout",
          "text": [
            "Accuracy: 65.68%\n",
            "\n",
            "Evaluating model f20 on dataset D'12\n"
          ]
        },
        {
          "output_type": "stream",
          "name": "stderr",
          "text": [
            "Extracting features: 100%|██████████| 2500/2500 [00:32<00:00, 76.12it/s]\n"
          ]
        },
        {
          "output_type": "stream",
          "name": "stdout",
          "text": [
            "Accuracy: 70.68%\n",
            "\n",
            "Evaluating model f20 on dataset D'13\n"
          ]
        },
        {
          "output_type": "stream",
          "name": "stderr",
          "text": [
            "Extracting features: 100%|██████████| 2500/2500 [00:32<00:00, 76.29it/s]\n"
          ]
        },
        {
          "output_type": "stream",
          "name": "stdout",
          "text": [
            "Accuracy: 70.40%\n",
            "\n",
            "Evaluating model f20 on dataset D'14\n"
          ]
        },
        {
          "output_type": "stream",
          "name": "stderr",
          "text": [
            "Extracting features: 100%|██████████| 2500/2500 [00:32<00:00, 77.31it/s]\n"
          ]
        },
        {
          "output_type": "stream",
          "name": "stdout",
          "text": [
            "Accuracy: 60.20%\n",
            "\n",
            "Evaluating model f20 on dataset D'15\n"
          ]
        },
        {
          "output_type": "stream",
          "name": "stderr",
          "text": [
            "Extracting features: 100%|██████████| 2500/2500 [00:32<00:00, 75.94it/s]\n"
          ]
        },
        {
          "output_type": "stream",
          "name": "stdout",
          "text": [
            "Accuracy: 75.36%\n",
            "\n",
            "Evaluating model f20 on dataset D'16\n"
          ]
        },
        {
          "output_type": "stream",
          "name": "stderr",
          "text": [
            "Extracting features: 100%|██████████| 2500/2500 [00:32<00:00, 76.75it/s]\n"
          ]
        },
        {
          "output_type": "stream",
          "name": "stdout",
          "text": [
            "Accuracy: 64.56%\n",
            "\n",
            "Evaluating model f20 on dataset D'17\n"
          ]
        },
        {
          "output_type": "stream",
          "name": "stderr",
          "text": [
            "Extracting features: 100%|██████████| 2500/2500 [00:33<00:00, 73.55it/s]\n"
          ]
        },
        {
          "output_type": "stream",
          "name": "stdout",
          "text": [
            "Accuracy: 62.88%\n",
            "\n",
            "Evaluating model f20 on dataset D'18\n"
          ]
        },
        {
          "output_type": "stream",
          "name": "stderr",
          "text": [
            "Extracting features: 100%|██████████| 2500/2500 [00:32<00:00, 78.02it/s]\n"
          ]
        },
        {
          "output_type": "stream",
          "name": "stdout",
          "text": [
            "Accuracy: 67.60%\n",
            "\n",
            "Evaluating model f20 on dataset D'19\n"
          ]
        },
        {
          "output_type": "stream",
          "name": "stderr",
          "text": [
            "Extracting features: 100%|██████████| 2500/2500 [00:33<00:00, 75.43it/s]\n"
          ]
        },
        {
          "output_type": "stream",
          "name": "stdout",
          "text": [
            "Accuracy: 73.60%\n",
            "\n",
            "Evaluating model f20 on dataset D'20\n"
          ]
        },
        {
          "output_type": "stream",
          "name": "stderr",
          "text": [
            "Extracting features: 100%|██████████| 2500/2500 [00:32<00:00, 77.19it/s]\n"
          ]
        },
        {
          "output_type": "stream",
          "name": "stdout",
          "text": [
            "Accuracy: 71.00%\n",
            "\n",
            "Accuracy Matrix for Task 2:\n",
            "Model f11: 79.20%\t80.32%\t78.32%\t79.60%\t79.04%\t80.68%\t78.52%\t79.16%\t80.00%\t80.24%\t65.68%\n",
            "Model f12: 79.20%\t80.32%\t78.32%\t79.60%\t79.04%\t80.68%\t78.52%\t79.16%\t80.00%\t80.24%\t65.68%\t70.68%\n",
            "Model f13: 79.20%\t80.32%\t78.32%\t79.60%\t79.04%\t80.68%\t78.52%\t79.16%\t80.00%\t80.24%\t65.68%\t70.68%\t70.40%\n",
            "Model f14: 79.20%\t80.32%\t78.32%\t79.60%\t79.04%\t80.68%\t78.52%\t79.16%\t80.00%\t80.24%\t65.68%\t70.68%\t70.40%\t60.20%\n",
            "Model f15: 79.20%\t80.32%\t78.32%\t79.60%\t79.04%\t80.68%\t78.52%\t79.16%\t80.00%\t80.24%\t65.68%\t70.68%\t70.40%\t60.20%\t75.36%\n",
            "Model f16: 79.20%\t80.32%\t78.32%\t79.60%\t79.04%\t80.68%\t78.52%\t79.16%\t80.00%\t80.24%\t65.68%\t70.68%\t70.40%\t60.20%\t75.36%\t64.56%\n",
            "Model f17: 79.20%\t80.32%\t78.32%\t79.60%\t79.04%\t80.68%\t78.52%\t79.16%\t80.00%\t80.24%\t65.68%\t70.68%\t70.40%\t60.20%\t75.36%\t64.56%\t62.88%\n",
            "Model f18: 79.20%\t80.32%\t78.32%\t79.60%\t79.04%\t80.68%\t78.52%\t79.16%\t80.00%\t80.24%\t65.68%\t70.68%\t70.40%\t60.20%\t75.36%\t64.56%\t62.88%\t67.60%\n",
            "Model f19: 79.20%\t80.32%\t78.32%\t79.60%\t79.04%\t80.68%\t78.52%\t79.16%\t80.00%\t80.24%\t65.68%\t70.68%\t70.40%\t60.20%\t75.36%\t64.56%\t62.88%\t67.60%\t73.60%\n",
            "Model f20: 79.20%\t80.32%\t78.32%\t79.60%\t79.04%\t80.68%\t78.52%\t79.16%\t80.00%\t80.24%\t65.68%\t70.68%\t70.40%\t60.20%\t75.36%\t64.56%\t62.88%\t67.60%\t73.60%\t71.00%\n"
          ]
        }
      ]
    }
  ]
}